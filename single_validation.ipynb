{
 "cells": [
  {
   "cell_type": "markdown",
   "metadata": {},
   "source": [
    "# Single Validation\n",
    "\n",
    "Validate a single simulation:\n",
    "1. Correctly correlating MT growth state to grid size change\n",
    "2. MT growth rate does not exceed `vp`\n",
    "3. Grid size change occurs only in +/- 1 grids\n",
    "4. Grid DNE blocks exist only in a single uninterrupted sequence"
   ]
  },
  {
   "cell_type": "code",
   "execution_count": 1,
   "metadata": {},
   "outputs": [],
   "source": [
    "# imports\n",
    "from pathlib import Path\n",
    "\n",
    "import matplotlib.pyplot as plt\n",
    "\n",
    "from simulation import Simulation\n",
    "\n",
    "\n",
    "# set plotting style\n",
    "plt.style.use([\"default\", \"biophysics.mplstyle\"])"
   ]
  },
  {
   "cell_type": "code",
   "execution_count": 2,
   "metadata": {},
   "outputs": [],
   "source": [
    "# import simulation data to the Simulation class\n",
    "data_file = Path(\"data/tests/simulation.mat\")\n",
    "sim = Simulation(data_file)"
   ]
  },
  {
   "cell_type": "code",
   "execution_count": 3,
   "metadata": {},
   "outputs": [
    {
     "data": {
      "text/plain": [
       "array([2, 1, 1, 2, 2, 1, 2, 2, 2, 1, 1, 2, 1, 1, 1, 1, 1, 1, 1, 1, 1, 3,\n",
       "       2, 1, 2, 3, 1, 2, 2, 2, 1, 1, 2, 1, 2, 1, 2, 2, 2, 1, 2, 1, 1, 1,\n",
       "       1, 2, 2, 1, 2, 2, 1, 2, 2, 2, 2, 2, 2, 2, 1, 2, 2, 2, 2, 2, 1, 2,\n",
       "       1, 1, 1, 2, 2, 1, 2, 2, 2, 1, 2, 2, 1, 1, 2, 2, 2, 2, 2, 2, 2, 2,\n",
       "       2, 2, 2, 2, 2, 2, 2, 2, 2, 2, 2, 2, 2, 2, 2, 2, 2, 2], dtype=uint8)"
      ]
     },
     "execution_count": 3,
     "metadata": {},
     "output_type": "execute_result"
    }
   ],
   "source": [
    "sim.get_trimmed_grid_at(200)"
   ]
  },
  {
   "cell_type": "code",
   "execution_count": 4,
   "metadata": {},
   "outputs": [
    {
     "name": "stdout",
     "output_type": "stream",
     "text": [
      "Start protein: 2, index: 0\n"
     ]
    },
    {
     "data": {
      "text/plain": [
       "[Sequence of 1 tau starting at 0,\n",
       " Sequence of 2 empty starting at 1,\n",
       " Sequence of 2 tau starting at 3,\n",
       " Sequence of 1 empty starting at 5,\n",
       " Sequence of 3 tau starting at 6,\n",
       " Sequence of 2 empty starting at 9,\n",
       " Sequence of 1 tau starting at 11,\n",
       " Sequence of 9 empty starting at 12,\n",
       " Sequence of 1 map6 starting at 21,\n",
       " Sequence of 1 tau starting at 22,\n",
       " Sequence of 1 empty starting at 23,\n",
       " Sequence of 1 tau starting at 24,\n",
       " Sequence of 1 map6 starting at 25,\n",
       " Sequence of 1 empty starting at 26,\n",
       " Sequence of 3 tau starting at 27,\n",
       " Sequence of 2 empty starting at 30,\n",
       " Sequence of 1 tau starting at 32,\n",
       " Sequence of 1 empty starting at 33,\n",
       " Sequence of 1 tau starting at 34,\n",
       " Sequence of 1 empty starting at 35,\n",
       " Sequence of 3 tau starting at 36,\n",
       " Sequence of 1 empty starting at 39,\n",
       " Sequence of 1 tau starting at 40,\n",
       " Sequence of 4 empty starting at 41,\n",
       " Sequence of 2 tau starting at 45,\n",
       " Sequence of 1 empty starting at 47,\n",
       " Sequence of 2 tau starting at 48,\n",
       " Sequence of 1 empty starting at 50,\n",
       " Sequence of 7 tau starting at 51,\n",
       " Sequence of 1 empty starting at 58,\n",
       " Sequence of 5 tau starting at 59,\n",
       " Sequence of 1 empty starting at 64,\n",
       " Sequence of 1 tau starting at 65,\n",
       " Sequence of 3 empty starting at 66,\n",
       " Sequence of 2 tau starting at 69,\n",
       " Sequence of 1 empty starting at 71,\n",
       " Sequence of 3 tau starting at 72,\n",
       " Sequence of 1 empty starting at 75,\n",
       " Sequence of 2 tau starting at 76,\n",
       " Sequence of 2 empty starting at 78,\n",
       " Sequence of 26 tau starting at 80]"
      ]
     },
     "execution_count": 4,
     "metadata": {},
     "output_type": "execute_result"
    }
   ],
   "source": [
    "sim.get_sequence_at(200)"
   ]
  },
  {
   "cell_type": "code",
   "execution_count": 5,
   "metadata": {},
   "outputs": [
    {
     "name": "stdout",
     "output_type": "stream",
     "text": [
      "Start protein: 1, index: 0\n"
     ]
    },
    {
     "data": {
      "text/html": [
       "<div>\n",
       "<style scoped>\n",
       "    .dataframe tbody tr th:only-of-type {\n",
       "        vertical-align: middle;\n",
       "    }\n",
       "\n",
       "    .dataframe tbody tr th {\n",
       "        vertical-align: top;\n",
       "    }\n",
       "\n",
       "    .dataframe thead th {\n",
       "        text-align: right;\n",
       "    }\n",
       "</style>\n",
       "<table border=\"1\" class=\"dataframe\">\n",
       "  <thead>\n",
       "    <tr style=\"text-align: right;\">\n",
       "      <th></th>\n",
       "      <th>type</th>\n",
       "      <th>domain_start_pos</th>\n",
       "      <th>protein_draw_pos</th>\n",
       "    </tr>\n",
       "  </thead>\n",
       "  <tbody>\n",
       "    <tr>\n",
       "      <th>0</th>\n",
       "      <td>1</td>\n",
       "      <td>0.000</td>\n",
       "      <td>0.018</td>\n",
       "    </tr>\n",
       "    <tr>\n",
       "      <th>1</th>\n",
       "      <td>1</td>\n",
       "      <td>0.036</td>\n",
       "      <td>0.054</td>\n",
       "    </tr>\n",
       "    <tr>\n",
       "      <th>2</th>\n",
       "      <td>1</td>\n",
       "      <td>0.072</td>\n",
       "      <td>0.090</td>\n",
       "    </tr>\n",
       "    <tr>\n",
       "      <th>3</th>\n",
       "      <td>1</td>\n",
       "      <td>0.108</td>\n",
       "      <td>0.126</td>\n",
       "    </tr>\n",
       "    <tr>\n",
       "      <th>4</th>\n",
       "      <td>3</td>\n",
       "      <td>0.144</td>\n",
       "      <td>0.162</td>\n",
       "    </tr>\n",
       "    <tr>\n",
       "      <th>...</th>\n",
       "      <td>...</td>\n",
       "      <td>...</td>\n",
       "      <td>...</td>\n",
       "    </tr>\n",
       "    <tr>\n",
       "      <th>900</th>\n",
       "      <td>2</td>\n",
       "      <td>32.400</td>\n",
       "      <td>32.418</td>\n",
       "    </tr>\n",
       "    <tr>\n",
       "      <th>901</th>\n",
       "      <td>2</td>\n",
       "      <td>32.436</td>\n",
       "      <td>32.454</td>\n",
       "    </tr>\n",
       "    <tr>\n",
       "      <th>902</th>\n",
       "      <td>2</td>\n",
       "      <td>32.472</td>\n",
       "      <td>32.490</td>\n",
       "    </tr>\n",
       "    <tr>\n",
       "      <th>903</th>\n",
       "      <td>2</td>\n",
       "      <td>32.508</td>\n",
       "      <td>32.526</td>\n",
       "    </tr>\n",
       "    <tr>\n",
       "      <th>904</th>\n",
       "      <td>2</td>\n",
       "      <td>32.544</td>\n",
       "      <td>32.562</td>\n",
       "    </tr>\n",
       "  </tbody>\n",
       "</table>\n",
       "<p>905 rows × 3 columns</p>\n",
       "</div>"
      ],
      "text/plain": [
       "     type  domain_start_pos  protein_draw_pos\n",
       "0       1             0.000             0.018\n",
       "1       1             0.036             0.054\n",
       "2       1             0.072             0.090\n",
       "3       1             0.108             0.126\n",
       "4       3             0.144             0.162\n",
       "..    ...               ...               ...\n",
       "900     2            32.400            32.418\n",
       "901     2            32.436            32.454\n",
       "902     2            32.472            32.490\n",
       "903     2            32.508            32.526\n",
       "904     2            32.544            32.562\n",
       "\n",
       "[905 rows x 3 columns]"
      ]
     },
     "execution_count": 5,
     "metadata": {},
     "output_type": "execute_result"
    }
   ],
   "source": [
    "sim.get_protein_plot_points_at(50)"
   ]
  },
  {
   "cell_type": "code",
   "execution_count": 6,
   "metadata": {},
   "outputs": [
    {
     "data": {
      "text/plain": [
       "905"
      ]
     },
     "execution_count": 6,
     "metadata": {},
     "output_type": "execute_result"
    }
   ],
   "source": [
    "sim.get_length_units_at(999)"
   ]
  },
  {
   "cell_type": "code",
   "execution_count": null,
   "metadata": {},
   "outputs": [],
   "source": []
  }
 ],
 "metadata": {
  "kernelspec": {
   "display_name": ".venv",
   "language": "python",
   "name": "python3"
  },
  "language_info": {
   "codemirror_mode": {
    "name": "ipython",
    "version": 3
   },
   "file_extension": ".py",
   "mimetype": "text/x-python",
   "name": "python",
   "nbconvert_exporter": "python",
   "pygments_lexer": "ipython3",
   "version": "3.12.5"
  }
 },
 "nbformat": 4,
 "nbformat_minor": 2
}
