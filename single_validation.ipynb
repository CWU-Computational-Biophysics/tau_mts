{
 "cells": [
  {
   "cell_type": "markdown",
   "metadata": {},
   "source": [
    "# Single Validation\n",
    "\n",
    "Validate a single simulation:\n",
    "1. Correctly correlating MT growth state to grid size change\n",
    "2. MT growth rate does not exceed `vp`\n",
    "3. Grid size change occurs only in +/- 1 grids\n",
    "4. Grid DNE blocks exist only in a single uninterrupted sequence"
   ]
  },
  {
   "cell_type": "code",
   "execution_count": 1,
   "metadata": {},
   "outputs": [
    {
     "data": {
      "text/html": [
       "<pre style=\"white-space:pre;overflow-x:auto;line-height:normal;font-family:Menlo,'DejaVu Sans Mono',consolas,'Courier New',monospace\"><span style=\"color: #008000; text-decoration-color: #008000\">Running sim self check.</span>\n",
       "</pre>\n"
      ],
      "text/plain": [
       "\u001b[32mRunning sim self check.\u001b[0m\n"
      ]
     },
     "metadata": {},
     "output_type": "display_data"
    },
    {
     "data": {
      "text/html": [
       "<pre style=\"white-space:pre;overflow-x:auto;line-height:normal;font-family:Menlo,'DejaVu Sans Mono',consolas,'Courier New',monospace\"><span style=\"color: #808000; text-decoration-color: #808000\">Warning: Length changed </span><span style=\"color: #808000; text-decoration-color: #808000; font-weight: bold\">(</span><span style=\"color: #808000; text-decoration-color: #808000; font-weight: bold\">0.03600000000000003</span><span style=\"color: #808000; text-decoration-color: #808000; font-weight: bold\">)</span><span style=\"color: #808000; text-decoration-color: #808000\"> under stability at step </span><span style=\"color: #808000; text-decoration-color: #808000; font-weight: bold\">114</span>\n",
       "</pre>\n"
      ],
      "text/plain": [
       "\u001b[33mWarning: Length changed \u001b[0m\u001b[1;33m(\u001b[0m\u001b[1;33m0.03600000000000003\u001b[0m\u001b[1;33m)\u001b[0m\u001b[33m under stability at step \u001b[0m\u001b[1;33m114\u001b[0m\n"
      ]
     },
     "metadata": {},
     "output_type": "display_data"
    },
    {
     "data": {
      "text/html": [
       "<pre style=\"white-space:pre;overflow-x:auto;line-height:normal;font-family:Menlo,'DejaVu Sans Mono',consolas,'Courier New',monospace\"><span style=\"color: #808000; text-decoration-color: #808000\">Warning: Grid count changed by more than </span><span style=\"color: #808000; text-decoration-color: #808000; font-weight: bold\">1</span><span style=\"color: #808000; text-decoration-color: #808000\"> </span><span style=\"color: #808000; text-decoration-color: #808000; font-weight: bold\">(</span><span style=\"color: #808000; text-decoration-color: #808000; font-weight: bold\">2</span><span style=\"color: #808000; text-decoration-color: #808000; font-weight: bold\">)</span><span style=\"color: #808000; text-decoration-color: #808000\"> at step </span><span style=\"color: #808000; text-decoration-color: #808000; font-weight: bold\">633</span>\n",
       "</pre>\n"
      ],
      "text/plain": [
       "\u001b[33mWarning: Grid count changed by more than \u001b[0m\u001b[1;33m1\u001b[0m\u001b[33m \u001b[0m\u001b[1;33m(\u001b[0m\u001b[1;33m2\u001b[0m\u001b[1;33m)\u001b[0m\u001b[33m at step \u001b[0m\u001b[1;33m633\u001b[0m\n"
      ]
     },
     "metadata": {},
     "output_type": "display_data"
    },
    {
     "data": {
      "text/html": [
       "<pre style=\"white-space:pre;overflow-x:auto;line-height:normal;font-family:Menlo,'DejaVu Sans Mono',consolas,'Courier New',monospace\"><span style=\"color: #800000; text-decoration-color: #800000\">Warning: Simulation failed self-check</span>\n",
       "</pre>\n"
      ],
      "text/plain": [
       "\u001b[31mWarning: Simulation failed self-check\u001b[0m\n"
      ]
     },
     "metadata": {},
     "output_type": "display_data"
    }
   ],
   "source": [
    "# imports\n",
    "from pathlib import Path\n",
    "import matplotlib.pyplot as plt\n",
    "from simulation import Simulation\n",
    "\n",
    "\n",
    "# set plotting style\n",
    "plt.style.use([\"default\", \"biophysics.mplstyle\"])\n",
    "\n",
    "# import simulation data to the Simulation class\n",
    "data_file = Path(\"data/tests/simulation.mat\")\n",
    "sim = Simulation(data_file)"
   ]
  },
  {
   "cell_type": "code",
   "execution_count": null,
   "metadata": {},
   "outputs": [],
   "source": [
    "# plot sequence\n",
    "fig, ax = plt.subplots()\n",
    "sim.plot_sequence_at(ax, step=50, max_len=False, plot_points=True, point_domain_ticks=True)"
   ]
  },
  {
   "cell_type": "code",
   "execution_count": null,
   "metadata": {},
   "outputs": [],
   "source": []
  }
 ],
 "metadata": {
  "kernelspec": {
   "display_name": ".venv",
   "language": "python",
   "name": "python3"
  },
  "language_info": {
   "codemirror_mode": {
    "name": "ipython",
    "version": 3
   },
   "file_extension": ".py",
   "mimetype": "text/x-python",
   "name": "python",
   "nbconvert_exporter": "python",
   "pygments_lexer": "ipython3",
   "version": "3.12.5"
  }
 },
 "nbformat": 4,
 "nbformat_minor": 2
}
