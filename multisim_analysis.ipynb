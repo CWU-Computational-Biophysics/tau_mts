{
 "cells": [
  {
   "cell_type": "markdown",
   "metadata": {},
   "source": [
    "# Multisim Analysis"
   ]
  },
  {
   "cell_type": "code",
   "execution_count": null,
   "metadata": {},
   "outputs": [],
   "source": [
    "# imports\n",
    "import matplotlib.pyplot as plt\n",
    "import numpy as np\n",
    "import pandas as pd\n",
    "from pathlib import Path\n",
    "from multisim import MultiSim\n",
    "from plotlabelmanager import PlotLabelManager\n",
    "\n",
    "# set plotting style\n",
    "plt.style.use(['default', 'biophysics.mplstyle'])\n",
    "\n",
    "# define and create figure save location\n",
    "fig_dir = Path('figures/dt_analysis')\n",
    "fig_dir.mkdir(parents=True, exist_ok=True)\n",
    "\n",
    "# load simulation data from data folder\n",
    "multisim = MultiSim(file_dir=Path('data/dt_invariance'), sort_by='dt')"
   ]
  },
  {
   "cell_type": "code",
   "execution_count": null,
   "metadata": {},
   "outputs": [],
   "source": [
    "# create a simulation averages dataframe for plotting\n",
    "flen_df = pd.DataFrame([\n",
    "    {\n",
    "        'tau_on': sim.get_param('tau_on'),\n",
    "        'tau_off': sim.get_param('tau_off'),\n",
    "        'map6_on': sim.get_param('map6_on'),\n",
    "        'map6_off': sim.get_param('map6_off'),\n",
    "        'dt': sim.get_param('dt'),\n",
    "        'fin_len': sim.get_length_at(sim.get_nsteps()-1),\n",
    "    }\n",
    "    for sim in multisim.get_iter()\n",
    "])\n",
    "\n",
    "# compute the tau map ratio\n",
    "flen_df['tau/map'] = flen_df['tau_on'] / flen_df['map6_on']\n",
    "\n",
    "# group by the tau map ratio and compute an averages df\n",
    "mean_flen_df = flen_df.groupby('tau/map').mean()"
   ]
  },
  {
   "cell_type": "code",
   "execution_count": null,
   "metadata": {},
   "outputs": [],
   "source": []
  }
 ],
 "metadata": {
  "kernelspec": {
   "display_name": ".venv",
   "language": "python",
   "name": "python3"
  },
  "language_info": {
   "codemirror_mode": {
    "name": "ipython",
    "version": 3
   },
   "file_extension": ".py",
   "mimetype": "text/x-python",
   "name": "python",
   "nbconvert_exporter": "python",
   "pygments_lexer": "ipython3",
   "version": "3.12.5"
  }
 },
 "nbformat": 4,
 "nbformat_minor": 2
}
