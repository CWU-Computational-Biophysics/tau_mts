{
 "cells": [
  {
   "cell_type": "markdown",
   "metadata": {},
   "source": [
    "# Multisim Analysis"
   ]
  },
  {
   "cell_type": "code",
   "execution_count": null,
   "metadata": {},
   "outputs": [],
   "source": [
    "# imports\n",
    "import matplotlib.pyplot as plt\n",
    "import numpy as np\n",
    "import pandas as pd\n",
    "from pathlib import Path\n",
    "from multisim import MultiSim\n",
    "from plotlabelmanager import PlotLabelManager\n",
    "\n",
    "# set plotting style\n",
    "plt.style.use(['default', 'biophysics.mplstyle'])\n",
    "\n",
    "# define and create figure save location\n",
    "fig_dir = Path('figures/dt_analysis')\n",
    "fig_dir.mkdir(parents=True, exist_ok=True)\n",
    "\n",
    "# load simulation data from data folder\n",
    "multisim = MultiSim(file_dir=Path('data/dt_invariance'), sort_by='dt')"
   ]
  },
  {
   "cell_type": "code",
   "execution_count": 18,
   "metadata": {},
   "outputs": [
    {
     "ename": "AttributeError",
     "evalue": "'Simulation' object has no attribute 'get_tau_frac_tip'",
     "output_type": "error",
     "traceback": [
      "\u001b[0;31m---------------------------------------------------------------------------\u001b[0m",
      "\u001b[0;31mAttributeError\u001b[0m                            Traceback (most recent call last)",
      "Cell \u001b[0;32mIn[18], line 10\u001b[0m\n\u001b[1;32m      1\u001b[0m \u001b[38;5;66;03m# create a simulation averages dataframe for plotting\u001b[39;00m\n\u001b[1;32m      2\u001b[0m flen_df \u001b[38;5;241m=\u001b[39m pd\u001b[38;5;241m.\u001b[39mDataFrame([\n\u001b[1;32m      3\u001b[0m     {\n\u001b[1;32m      4\u001b[0m         \u001b[38;5;124m'\u001b[39m\u001b[38;5;124mtau_on\u001b[39m\u001b[38;5;124m'\u001b[39m: sim\u001b[38;5;241m.\u001b[39mget_param(\u001b[38;5;124m'\u001b[39m\u001b[38;5;124mtau_on\u001b[39m\u001b[38;5;124m'\u001b[39m),\n\u001b[1;32m      5\u001b[0m         \u001b[38;5;124m'\u001b[39m\u001b[38;5;124mtau_off\u001b[39m\u001b[38;5;124m'\u001b[39m: sim\u001b[38;5;241m.\u001b[39mget_param(\u001b[38;5;124m'\u001b[39m\u001b[38;5;124mtau_off\u001b[39m\u001b[38;5;124m'\u001b[39m),\n\u001b[1;32m      6\u001b[0m         \u001b[38;5;124m'\u001b[39m\u001b[38;5;124mmap6_on\u001b[39m\u001b[38;5;124m'\u001b[39m: sim\u001b[38;5;241m.\u001b[39mget_param(\u001b[38;5;124m'\u001b[39m\u001b[38;5;124mmap6_on\u001b[39m\u001b[38;5;124m'\u001b[39m),\n\u001b[1;32m      7\u001b[0m         \u001b[38;5;124m'\u001b[39m\u001b[38;5;124mmap6_off\u001b[39m\u001b[38;5;124m'\u001b[39m: sim\u001b[38;5;241m.\u001b[39mget_param(\u001b[38;5;124m'\u001b[39m\u001b[38;5;124mmap6_off\u001b[39m\u001b[38;5;124m'\u001b[39m),\n\u001b[1;32m      8\u001b[0m         \u001b[38;5;124m'\u001b[39m\u001b[38;5;124mdt\u001b[39m\u001b[38;5;124m'\u001b[39m: sim\u001b[38;5;241m.\u001b[39mget_param(\u001b[38;5;124m'\u001b[39m\u001b[38;5;124mdt\u001b[39m\u001b[38;5;124m'\u001b[39m),\n\u001b[1;32m      9\u001b[0m         \u001b[38;5;124m'\u001b[39m\u001b[38;5;124mfin_len\u001b[39m\u001b[38;5;124m'\u001b[39m: sim\u001b[38;5;241m.\u001b[39mget_length_at(sim\u001b[38;5;241m.\u001b[39mget_nsteps()\u001b[38;5;241m-\u001b[39m\u001b[38;5;241m1\u001b[39m),\n\u001b[0;32m---> 10\u001b[0m         \u001b[38;5;124m'\u001b[39m\u001b[38;5;124mtau_frac_tip\u001b[39m\u001b[38;5;124m'\u001b[39m: \u001b[43msim\u001b[49m\u001b[38;5;241;43m.\u001b[39;49m\u001b[43mget_tau_frac_tip\u001b[49m(),\n\u001b[1;32m     11\u001b[0m         \u001b[38;5;124m'\u001b[39m\u001b[38;5;124mmap6_frac_tip\u001b[39m\u001b[38;5;124m'\u001b[39m: sim\u001b[38;5;241m.\u001b[39mget_map6_frac_tip(),\n\u001b[1;32m     12\u001b[0m         \u001b[38;5;124m'\u001b[39m\u001b[38;5;124mtau_frac_length\u001b[39m\u001b[38;5;124m'\u001b[39m: sim\u001b[38;5;241m.\u001b[39mget_tau_frac_length(),\n\u001b[1;32m     13\u001b[0m         \u001b[38;5;124m'\u001b[39m\u001b[38;5;124mmap6_frac_length\u001b[39m\u001b[38;5;124m'\u001b[39m: sim\u001b[38;5;241m.\u001b[39mget_map6_frac_length(),\n\u001b[1;32m     14\u001b[0m         \u001b[38;5;124m'\u001b[39m\u001b[38;5;124mtau_plus_end_asym\u001b[39m\u001b[38;5;124m'\u001b[39m: sim\u001b[38;5;241m.\u001b[39mget_tau_plus_end_asym(),\n\u001b[1;32m     15\u001b[0m         \u001b[38;5;124m'\u001b[39m\u001b[38;5;124mmap6_plus_end_asym\u001b[39m\u001b[38;5;124m'\u001b[39m: sim\u001b[38;5;241m.\u001b[39mget_map6_plus_end_asym(),\n\u001b[1;32m     16\u001b[0m     }\n\u001b[1;32m     17\u001b[0m     \u001b[38;5;28;01mfor\u001b[39;00m sim \u001b[38;5;129;01min\u001b[39;00m multisim\u001b[38;5;241m.\u001b[39mget_iter()\n\u001b[1;32m     18\u001b[0m ])\n\u001b[1;32m     20\u001b[0m \u001b[38;5;66;03m# compute the tau map ratio\u001b[39;00m\n\u001b[1;32m     21\u001b[0m flen_df[\u001b[38;5;124m'\u001b[39m\u001b[38;5;124mtau/map\u001b[39m\u001b[38;5;124m'\u001b[39m] \u001b[38;5;241m=\u001b[39m flen_df[\u001b[38;5;124m'\u001b[39m\u001b[38;5;124mtau_on\u001b[39m\u001b[38;5;124m'\u001b[39m] \u001b[38;5;241m/\u001b[39m flen_df[\u001b[38;5;124m'\u001b[39m\u001b[38;5;124mmap6_on\u001b[39m\u001b[38;5;124m'\u001b[39m]\n",
      "\u001b[0;31mAttributeError\u001b[0m: 'Simulation' object has no attribute 'get_tau_frac_tip'"
     ]
    }
   ],
   "source": [
    "# create a simulation averages dataframe for plotting\n",
    "flen_df = pd.DataFrame([\n",
    "    {\n",
    "        'tau_on': sim.get_param('tau_on'),\n",
    "        'tau_off': sim.get_param('tau_off'),\n",
    "        'map6_on': sim.get_param('map6_on'),\n",
    "        'map6_off': sim.get_param('map6_off'),\n",
    "        'dt': sim.get_param('dt'),\n",
    "        'fin_len': sim.get_length_at(sim.get_nsteps()-1),\n",
    "        'tau_frac_tip': sim.get_tau_frac_tip(),\n",
    "        'map6_frac_tip': sim.get_map6_frac_tip(),\n",
    "        'tau_frac_length': sim.get_tau_frac_length(),\n",
    "        'map6_frac_length': sim.get_map6_frac_length(),\n",
    "        'tau_plus_end_asym': sim.get_tau_plus_end_asym(),\n",
    "        'map6_plus_end_asym': sim.get_map6_plus_end_asym(),\n",
    "    }\n",
    "    for sim in multisim.get_iter()\n",
    "])\n",
    "\n",
    "# compute the tau map ratio\n",
    "flen_df['tau/map'] = flen_df['tau_on'] / flen_df['map6_on']\n",
    "\n",
    "# group by the tau map ratio and compute an averages df\n",
    "mean_flen_df = flen_df.groupby('tau/map').mean()"
   ]
  },
  {
   "cell_type": "code",
   "execution_count": null,
   "metadata": {},
   "outputs": [],
   "source": []
  }
 ],
 "metadata": {
  "kernelspec": {
   "display_name": ".venv",
   "language": "python",
   "name": "python3"
  },
  "language_info": {
   "codemirror_mode": {
    "name": "ipython",
    "version": 3
   },
   "file_extension": ".py",
   "mimetype": "text/x-python",
   "name": "python",
   "nbconvert_exporter": "python",
   "pygments_lexer": "ipython3",
   "version": "3.12.5"
  }
 },
 "nbformat": 4,
 "nbformat_minor": 2
}
