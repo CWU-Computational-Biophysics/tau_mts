{
 "cells": [
  {
   "cell_type": "markdown",
   "metadata": {},
   "source": [
    "# First Analysis\n",
    "\n",
    "This notebook processes and analyzes the output of `Tau_Map6_121323.m` via the `Asymm_v_T0_121323.csv` file.\n",
    "This will eventually analyze `.mat` files from an updated version of the simulation code."
   ]
  },
  {
   "cell_type": "markdown",
   "metadata": {},
   "source": [
    "## Notebook Configuration"
   ]
  },
  {
   "cell_type": "code",
   "execution_count": 1,
   "metadata": {},
   "outputs": [],
   "source": [
    "# import packages\n",
    "import os\n",
    "from pathlib import Path\n",
    "\n",
    "import pandas as pd\n",
    "import numpy as np\n",
    "import matplotlib.pyplot as plt\n",
    "\n",
    "from matplotlib import colormaps\n",
    "\n",
    "from rich import print\n",
    "from tqdm import tqdm"
   ]
  },
  {
   "cell_type": "code",
   "execution_count": null,
   "metadata": {},
   "outputs": [],
   "source": [
    "# configure plotting\n",
    "# define the figure save directory\n",
    "figure_dir = Path(\"Figures\")\n",
    "os.makedirs(figure_dir, exist_ok=True)\n",
    "\n",
    "# set plot style\n",
    "cstyle_file_url = r\"https://gist.githubusercontent.com/CalvinSprouse/30bba681da1dd0023e948ca207fad0fc/raw/80a1ae94031873a57c9624103e83f5caf175ac86/cstyle.mplstyle\"\n",
    "plt.style.use([\"default\", cstyle_file_url])"
   ]
  },
  {
   "cell_type": "markdown",
   "metadata": {},
   "source": [
    "## Import Data"
   ]
  },
  {
   "cell_type": "code",
   "execution_count": null,
   "metadata": {},
   "outputs": [],
   "source": [
    "# import Asymm_v_T0_121323.csv from reference_code to a pandas dataframe\n",
    "# define the data directory\n",
    "data_dir = Path(\"reference_code\")\n",
    "# define the data file\n",
    "data_file = data_dir / \"Asymm_v_T0_121323.csv\"\n",
    "# read the data file\n",
    "df = pd.read_csv(data_file)"
   ]
  },
  {
   "cell_type": "code",
   "execution_count": null,
   "metadata": {},
   "outputs": [],
   "source": [
    "# average the data but first group by T0/M0\n",
    "df_grouped = df.groupby(\"T0/M0\")\n",
    "df_avg = df_grouped.mean()"
   ]
  },
  {
   "cell_type": "markdown",
   "metadata": {},
   "source": [
    "## Plotting"
   ]
  },
  {
   "cell_type": "markdown",
   "metadata": {},
   "source": [
    "### Define Functions"
   ]
  },
  {
   "cell_type": "code",
   "execution_count": null,
   "metadata": {},
   "outputs": [],
   "source": [
    "# add an argument to capture kwargs for ax.bar\n",
    "def grouped_bar_plot(fig, ax,\n",
    "                     group_data: dict,\n",
    "                     group_labels: list,\n",
    "                     colors: list = None,\n",
    "                     bar_width: float = 0.2,\n",
    "                     multiplier: float = 0,\n",
    "                     **kwargs):\n",
    "    \"\"\"Plots a grouped bar plot\n",
    "\n",
    "    Arguments:\n",
    "        fig -- _description_\n",
    "        ax -- _description_\n",
    "        group_data -- _description_\n",
    "\n",
    "    Keyword Arguments:\n",
    "        colors -- _description_ (default: {None})\n",
    "        bar_width -- _description_ (default: {0.2})\n",
    "        multiplier -- _description_ (default: {0})\n",
    "\n",
    "    Raises:\n",
    "        ValueError: _description_\n",
    "\n",
    "    Returns:\n",
    "        _description_\n",
    "    \"\"\"\n",
    "\n",
    "    # extract groups from keys of group_data\n",
    "    group_count = len(group_labels)\n",
    "\n",
    "    # the default value of colors should be a built in color list\n",
    "    if colors is None:\n",
    "        colors = colormaps[\"tab10\"].colors\n",
    "    else:\n",
    "        # check if the length of colors is greater than the number of groups\n",
    "        if len(colors) < group_count:\n",
    "            raise ValueError(\"The number of colors provided is less than the number of groups\")\n",
    "\n",
    "    # define the label locations\n",
    "    x_locations = np.arange(group_count)\n",
    "\n",
    "    # plot the bars\n",
    "    for index, attr_meas in enumerate(group_data.items()):\n",
    "        # unpack attr_meas\n",
    "        attribute = attr_meas[0]\n",
    "        measurement = attr_meas[1]\n",
    "\n",
    "        # calculate the offset location of each bar\n",
    "        offset = bar_width * multiplier\n",
    "\n",
    "        # draw the bar and insert kwargs\n",
    "        ax.bar(\n",
    "            x_locations + offset,\n",
    "            measurement,\n",
    "            bar_width,\n",
    "            label=attribute,\n",
    "            color=colors[index],\n",
    "            **kwargs\n",
    "        )\n",
    "\n",
    "        # iterate the multiplier to space the next bar\n",
    "        multiplier += 1\n",
    "\n",
    "    # set the x ticks\n",
    "    ax.set_xticks(x_locations + bar_width, group_labels)\n",
    "\n",
    "    return fig, ax"
   ]
  },
  {
   "cell_type": "markdown",
   "metadata": {},
   "source": [
    "### Binding Rate Ratio vs. MT Length"
   ]
  },
  {
   "cell_type": "code",
   "execution_count": null,
   "metadata": {},
   "outputs": [],
   "source": [
    "# define the grouped data and group labels\n",
    "group_data = {\"L\": df_avg[\"L\"]}\n",
    "group_labels = df_avg.index\n",
    "\n",
    "# define the figure\n",
    "fig, ax = plt.subplots()\n",
    "\n",
    "# plot the grouped bar plot\n",
    "fig, ax = grouped_bar_plot(fig, ax, group_data, group_labels, multiplier=1)\n",
    "\n",
    "# set the labels\n",
    "ax.set_xlabel(r\"Ratio of tau binding rate to map6 binding rate\")\n",
    "ax.set_ylabel(r\"Microtubule length after 5 minutes [$\\qty{}{\\micro\\meter}$]\")\n",
    "ax.set_title(r\"Effect of binding ratio on microtubule growth\")\n",
    "\n",
    "# save the figure\n",
    "fig.savefig(figure_dir / r\"growth_effect\")"
   ]
  },
  {
   "cell_type": "markdown",
   "metadata": {},
   "source": [
    "### Binding Asymmetry"
   ]
  },
  {
   "cell_type": "code",
   "execution_count": null,
   "metadata": {},
   "outputs": [],
   "source": [
    "# make a grouped bar plot of binding asymmetry\n",
    "# on the horizontal: ratio of tau binding rate to map6 binding rate\n",
    "# on the vertical:\n",
    "# 1. tau plus end density to stable domain density ratio (tauasymm), default blue\n",
    "# 2. map6 plus end density to stable domain density ratio (mapasymm), default orange\n",
    "\n",
    "# define the group data and group labels\n",
    "group_data = {\"tauasymm\": df_avg[\"tauasymm\"], \"mapasymm\": df_avg[\"mapasymm\"]}\n",
    "group_labels = df_avg.index\n",
    "\n",
    "# define the figure\n",
    "fig, ax = plt.subplots()\n",
    "\n",
    "# plot the data\n",
    "fig, ax = grouped_bar_plot(fig, ax, group_data, group_labels, multiplier=1/2)\n",
    "\n",
    "# set the labels\n",
    "ax.set_xlabel(r\"Ratio of tau binding rate to map6 binding rate\")\n",
    "ax.set_ylabel(r\"Plus end density to stable domain density ratio\")\n",
    "ax.set_title(r\"Binding asymmetry\")\n",
    "\n",
    "# set the legend\n",
    "ax.legend()\n",
    "\n",
    "# save the figure\n",
    "fig.savefig(figure_dir / r\"asymm_effect\")"
   ]
  },
  {
   "cell_type": "markdown",
   "metadata": {},
   "source": [
    "### Distribution Dependence on tau On Rate"
   ]
  },
  {
   "cell_type": "code",
   "execution_count": null,
   "metadata": {},
   "outputs": [],
   "source": [
    "# make a grouped bar plot\n",
    "# on the horizontal: ratio of tau binding rate to map6 binding rate\n",
    "# on the vertical:\n",
    "# 1. plus-end tau fraction (taufractip), orange\n",
    "# 2. plus-end map6 fraction (mapfractip), blue\n",
    "# 3. stable domain tau fraction (taufraclength), grey\n",
    "# 4. stable domain map6 fraction (mapfraclength), green\n",
    "\n",
    "# define the group data and group labels (T0/M0)\n",
    "group_data = {\n",
    "    \"taufractip\": df_avg[\"taufractip\"],\n",
    "    \"mapfractip\": df_avg[\"mapfractip\"],\n",
    "    \"taufraclength\": df_avg[\"taufraclength\"],\n",
    "    \"mapfraclength\": df_avg[\"mapfraclength\"],\n",
    "}\n",
    "group_labels = df_avg.index\n",
    "\n",
    "# define the colors\n",
    "colors = [\"orange\", \"blue\", \"grey\", \"green\"]\n",
    "\n",
    "# define the figure\n",
    "fig, ax = plt.subplots()\n",
    "\n",
    "# plot the data\n",
    "fig, ax = grouped_bar_plot(fig, ax, group_data, group_labels, multiplier=-1/2)\n",
    "\n",
    "# set the labels\n",
    "ax.set_xlabel(r\"Ratio of tau binding rate to map6 binding rate (map6 rate constant)\")\n",
    "ax.set_ylabel(r\"Fraction of binding sites bound with this MAP\")\n",
    "ax.set_title(r\"Tau and Map6 distribution on MT: dependence on tau on rate\")\n",
    "\n",
    "# add a legend\n",
    "ax.legend()\n",
    "\n",
    "# save the figure\n",
    "fig.savefig(figure_dir / r\"binding_distribution_grouped\")"
   ]
  },
  {
   "cell_type": "code",
   "execution_count": null,
   "metadata": {},
   "outputs": [],
   "source": []
  }
 ],
 "metadata": {
  "kernelspec": {
   "display_name": "biophysics",
   "language": "python",
   "name": "python3"
  },
  "language_info": {
   "codemirror_mode": {
    "name": "ipython",
    "version": 3
   },
   "file_extension": ".py",
   "mimetype": "text/x-python",
   "name": "python",
   "nbconvert_exporter": "python",
   "pygments_lexer": "ipython3",
   "version": "3.10.13"
  }
 },
 "nbformat": 4,
 "nbformat_minor": 2
}
