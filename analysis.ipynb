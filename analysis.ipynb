{
 "cells": [
  {
   "cell_type": "markdown",
   "metadata": {},
   "source": [
    "# Analysis\n",
    "\n",
    "This notebook is the primary analysis notebook for tau_map6 simulations."
   ]
  },
  {
   "cell_type": "markdown",
   "metadata": {},
   "source": [
    "## Notebook Configuration"
   ]
  },
  {
   "cell_type": "code",
   "execution_count": 86,
   "metadata": {},
   "outputs": [],
   "source": [
    "# import packages\n",
    "import os\n",
    "import warnings\n",
    "from os import PathLike\n",
    "from pathlib import Path\n",
    "\n",
    "import pandas as pd\n",
    "import numpy as np\n",
    "import matplotlib.pyplot as plt\n",
    "import scipy.io as sio\n",
    "\n",
    "from matplotlib import colormaps\n",
    "from matplotlib.ticker import MaxNLocator\n",
    "from matplotlib.animation import FuncAnimation\n",
    "\n",
    "from rich import print\n",
    "from tqdm import tqdm"
   ]
  },
  {
   "cell_type": "code",
   "execution_count": 87,
   "metadata": {},
   "outputs": [],
   "source": [
    "# define the data directory\n",
    "data_dir = Path(\"data\", \"false_data\")\n",
    "\n",
    "# configure plotting\n",
    "# define the figure save directory\n",
    "figure_dir = Path(\"figures\", data_dir.parts[-1])\n",
    "os.makedirs(figure_dir, exist_ok=True)\n",
    "\n",
    "# set plot style\n",
    "plt.style.use([\"default\", \"cstyle.mplstyle\"])"
   ]
  },
  {
   "cell_type": "markdown",
   "metadata": {},
   "source": [
    "### Define Data Processing Functions\n",
    "\n",
    "Taken from `data_process_funcs.py`."
   ]
  },
  {
   "cell_type": "code",
   "execution_count": 88,
   "metadata": {},
   "outputs": [],
   "source": [
    "# define a function to extract data from a .mat file\n",
    "def extract_mat_data(mat_file: Path, value_list: list) -> tuple[dict, dict]:\n",
    "    \"\"\"\n",
    "    Extracts variables and arrays from a .mat file.\n",
    "\n",
    "    Parameters:\n",
    "    mat_file (Path): The path to the .mat file.\n",
    "    value_list (list): A list of strings containing the names of the variables and arrays to extract from the .mat file.\n",
    "\n",
    "    Returns:\n",
    "    tuple[dict, dict]: A tuple containing two dictionaries: the first dictionary contains the extracted variables, the second dictionary contains the extracted arrays.\n",
    "    \"\"\"\n",
    "\n",
    "    # check that the mat_file exists\n",
    "    if not mat_file.exists():\n",
    "        raise FileNotFoundError(f\"File '{mat_file}' does not exist.\")\n",
    "\n",
    "    # check that value_list is not empty\n",
    "    if not value_list:\n",
    "        raise ValueError(\"The value_list cannot be empty.\")\n",
    "\n",
    "    # read the .mat file and supress warnings\n",
    "    with warnings.catch_warnings():\n",
    "        warnings.filterwarnings('ignore')\n",
    "        mat_data = sio.loadmat(mat_file, squeeze_me=True)\n",
    "\n",
    "    # create dictionaries to store extracted data\n",
    "    var_dict = {}\n",
    "    array_dict = {}\n",
    "\n",
    "    # extract variables, check if the extracted variable is a single item, var, or array\n",
    "    for value in value_list:\n",
    "        extracted_value = mat_data.get(value)\n",
    "        if isinstance(extracted_value, np.ndarray):\n",
    "            array_dict[value] = extracted_value\n",
    "        else:\n",
    "            var_dict[value] = extracted_value\n",
    "\n",
    "    # return the dictionaries\n",
    "    return var_dict, array_dict\n"
   ]
  },
  {
   "cell_type": "code",
   "execution_count": 89,
   "metadata": {},
   "outputs": [],
   "source": [
    "# define a function to extract the sim dictionary from some .mat files\n",
    "def extract_sim_dict(mat_files: list[PathLike], value_list: list[str], suppress_warnings: bool = True, show_prog: bool = False) -> dict:\n",
    "    \"\"\"\n",
    "    Extracts the simulation dictionary from a directory.\n",
    "\n",
    "    Parameters:\n",
    "    mat_files (list[PathLike]): A list of paths to the .mat files.\n",
    "    value_list (list[str]): A list of strings containing the names of the variables and arrays to extract from the .mat files.\n",
    "    suppress_warnings (bool): Whether to suppress warnings.\n",
    "    show_prog (bool): Whether to show progress bars.\n",
    "\n",
    "    Returns:\n",
    "    dict: The extracted simulation dictionary.\n",
    "    \"\"\"\n",
    "\n",
    "    # initialize the sim_dict\n",
    "    # the key of sim_dict shall be the mat_file save_str or the file name\n",
    "    # the value of sim_dict shall be a dictionary\n",
    "    # the value shall have one key, \"vars\", containing the extracted var_dict\n",
    "    # the value shall have a key for each extracted array whose key name is the array name\n",
    "    sim_dict = {}\n",
    "\n",
    "    for mat_file in tqdm(mat_files, desc=\"Extracting data\", unit=\"file\", disable=~show_prog):\n",
    "        # extract the data\n",
    "        var_dict, array_dict = extract_mat_data(mat_file, value_list)\n",
    "\n",
    "        # get the save_str and check that it is not None\n",
    "        save_str = var_dict[\"save_str\"]\n",
    "        if save_str is None:\n",
    "            save_str = mat_file.stem\n",
    "            if not suppress_warnings:\n",
    "                print(f\"Warning: save_str is None for '{mat_file}'. Using file name, '{save_str}' as save_str.\")\n",
    "\n",
    "        # check that the save str is not already in the dict\n",
    "        if save_str in sim_dict:\n",
    "            raise ValueError(f\"Duplicate save_str, '{save_str}', found in sim_dict.\")\n",
    "\n",
    "        # create a dictionary to store the extracted data\n",
    "        sim_dict[save_str] = {\n",
    "            \"vars\": var_dict\n",
    "        }\n",
    "\n",
    "        # add the extracted arrays to the dictionary\n",
    "        for array_name, array_data in array_dict.items():\n",
    "            # check that the array_name is not already in the sim_dict\n",
    "            if array_name in sim_dict[save_str]:\n",
    "                raise ValueError(f\"Duplicate array name, '{array_name}', found in sim_dict['{save_str}'].\")\n",
    "            sim_dict[save_str][array_name] = array_data\n",
    "\n",
    "    # return the sim_dict\n",
    "    return sim_dict\n"
   ]
  },
  {
   "cell_type": "code",
   "execution_count": 90,
   "metadata": {},
   "outputs": [],
   "source": [
    "# define a function to create sim_df from extract_sim_dict\n",
    "def create_sim_df(sim_dict: dict) -> pd.DataFrame:\n",
    "    \"\"\"\n",
    "    Creates a DataFrame from a simulation dictionary.\n",
    "\n",
    "    Parameters:\n",
    "    sim_dict (dict): The simulation dictionary.\n",
    "\n",
    "    Returns:\n",
    "    pd.DataFrame: The DataFrame containing the simulation data.\n",
    "    \"\"\"\n",
    "\n",
    "    # create a dataframe of each simulations \"vars\" whose index is the simulation\n",
    "    sim_df = pd.DataFrame({save_str: sim_data[\"vars\"] for save_str, sim_data in sim_dict.items()}).T\n",
    "    # remove the save_str column\n",
    "    sim_df = sim_df.drop(columns=[\"save_str\"])\n",
    "    # return the sim_df\n",
    "    return sim_df\n"
   ]
  },
  {
   "cell_type": "code",
   "execution_count": 91,
   "metadata": {},
   "outputs": [],
   "source": [
    "def extract_sim_df(mat_files: list[PathLike], value_list: list[str], **kwargs) -> pd.DataFrame:\n",
    "    \"\"\"\n",
    "    Creates a DataFrame from a simulation dictionary.\n",
    "\n",
    "    Parameters:\n",
    "    mat_files (list[PathLike]): A list of paths to the .mat files.\n",
    "    value_list (list[str]): A list of strings containing the names of the variables and arrays to extract from the .mat files.\n",
    "    **kwargs: Additional keyword arguments to pass to extract_sim_dict.\n",
    "\n",
    "    Returns:\n",
    "    pd.DataFrame: The DataFrame containing the simulation data.\n",
    "    \"\"\"\n",
    "\n",
    "    # extract the variables to the sim_dict\n",
    "    sim_dict = extract_sim_dict(mat_files, value_list, **kwargs)\n",
    "    # create sim_df\n",
    "    sim_df = create_sim_df(sim_dict)\n",
    "    # return the sim_df\n",
    "    return sim_df\n"
   ]
  },
  {
   "cell_type": "markdown",
   "metadata": {},
   "source": [
    "### Extract and Process Data"
   ]
  },
  {
   "cell_type": "code",
   "execution_count": 92,
   "metadata": {},
   "outputs": [],
   "source": [
    "# define the data directory\n",
    "# moved to Notebook Configuration\n",
    "# data_dir = Path(\"data\", \"raw_sim_data\")\n",
    "\n",
    "# get the .mat files from data_dir\n",
    "mat_files = list(data_dir.glob(\"*.mat\"))"
   ]
  },
  {
   "cell_type": "code",
   "execution_count": 93,
   "metadata": {},
   "outputs": [],
   "source": [
    "# define a list of variables to extract from mat_files\n",
    "value_list = [\"T0\", \"M0\", \"taufractip\", \"taufraclength\", \"tauplusendasym\", \"mapfractip\", \"mapfraclength\", \"mapplusendasym\", \"L\", \"save_str\", \"MTlength\", \"MTgrid\", \"x\", \"t\"]\n",
    "\n",
    "# convert mat files to sim_dict and sim_df\n",
    "sim_dict = extract_sim_dict(mat_files, value_list)\n",
    "sim_df = create_sim_df(sim_dict)\n",
    "\n",
    "# handle nan values as 0\n",
    "sim_df = sim_df.fillna(0)"
   ]
  },
  {
   "cell_type": "code",
   "execution_count": 94,
   "metadata": {},
   "outputs": [],
   "source": [
    "# calculate new column values\n",
    "# calculate T0/M0\n",
    "sim_df[\"T0/M0\"] = sim_df[\"T0\"] / sim_df[\"M0\"]\n",
    "\n",
    "# round the value to one post-decimal place\n",
    "sim_df[\"T0/M0\"] = sim_df[\"T0/M0\"].round(1)"
   ]
  },
  {
   "cell_type": "code",
   "execution_count": 95,
   "metadata": {},
   "outputs": [],
   "source": [
    "# create an average df indexed by T0/M0\n",
    "sim_avg_df = sim_df.groupby(\"T0/M0\").mean()"
   ]
  },
  {
   "cell_type": "markdown",
   "metadata": {},
   "source": [
    "## Averages DF Plotting"
   ]
  },
  {
   "cell_type": "markdown",
   "metadata": {},
   "source": [
    "### Define Grouped Bar Plot Function"
   ]
  },
  {
   "cell_type": "code",
   "execution_count": 96,
   "metadata": {},
   "outputs": [],
   "source": [
    "# define a function to make a grouped bar plot\n",
    "def grouped_bar_plot(fig, ax,\n",
    "                     group_data: dict,\n",
    "                     group_labels: list,\n",
    "                     colors: list = None,\n",
    "                     bar_width: float = 0.15,\n",
    "                     multiplier: float = 0,\n",
    "                     **kwargs):\n",
    "    \"\"\"Plots a grouped bar plot\n",
    "\n",
    "    Arguments:\n",
    "        fig -- _description_\n",
    "        ax -- _description_\n",
    "        group_data -- _description_\n",
    "\n",
    "    Keyword Arguments:\n",
    "        colors -- _description_ (default: {None})\n",
    "        bar_width -- _description_ (default: {0.2})\n",
    "        multiplier -- _description_ (default: {0})\n",
    "\n",
    "    Raises:\n",
    "        ValueError: _description_\n",
    "\n",
    "    Returns:\n",
    "        _description_\n",
    "    \"\"\"\n",
    "\n",
    "    # extract groups from keys of group_data\n",
    "    group_count = len(group_labels)\n",
    "\n",
    "    # the default value of colors should be a built in color list\n",
    "    if colors is None:\n",
    "        colors = colormaps[\"tab10\"].colors\n",
    "    else:\n",
    "        # check if the length of colors is greater than the number of groups\n",
    "        if len(colors) < group_count:\n",
    "            raise ValueError(\"The number of colors provided is less than the number of groups\")\n",
    "\n",
    "    # define the label locations\n",
    "    x_locations = np.arange(group_count)\n",
    "\n",
    "    # plot the bars\n",
    "    for index, (attribute, measurement) in enumerate(group_data.items()):\n",
    "        # calculate the offset location of each bar\n",
    "        offset = bar_width * multiplier\n",
    "\n",
    "        # draw the bar and insert kwargs\n",
    "        ax.bar(\n",
    "            x_locations + offset,\n",
    "            measurement,\n",
    "            bar_width,\n",
    "            label=attribute,\n",
    "            color=colors[index],\n",
    "            **kwargs\n",
    "        )\n",
    "\n",
    "        # iterate the multiplier to space the next bar\n",
    "        multiplier += 1\n",
    "\n",
    "    # set the x ticks\n",
    "    ax.set_xticks(x_locations + bar_width, group_labels)\n",
    "\n",
    "    return fig, ax"
   ]
  },
  {
   "cell_type": "markdown",
   "metadata": {},
   "source": [
    "### Plot Binding Rate Ratio vs. MT Length"
   ]
  },
  {
   "cell_type": "code",
   "execution_count": 97,
   "metadata": {},
   "outputs": [
    {
     "data": {
      "image/png": "[encoded data removed]",
      "text/plain": [
       "<Figure size 800x800 with 1 Axes>"
      ]
     },
     "metadata": {},
     "output_type": "display_data"
    }
   ],
   "source": [
    "# define the grouped data and group labels\n",
    "group_data = {\"L\": sim_avg_df[\"L\"]}\n",
    "group_labels = sim_avg_df.index\n",
    "\n",
    "# define the figure\n",
    "fig, ax = plt.subplots()\n",
    "\n",
    "# plot the grouped bar plot\n",
    "fig, ax = grouped_bar_plot(fig, ax, group_data, group_labels, multiplier=1)\n",
    "\n",
    "# add a margin via xmargin to the x axis\n",
    "ax.margins(x=0.1)\n",
    "\n",
    "# set the labels\n",
    "ax.set_xlabel(r\"Ratio of tau binding rate to map6 binding rate\")\n",
    "ax.set_ylabel(r\"Microtubule length after 5 minutes [$\\qty{}{\\micro\\meter}$]\")\n",
    "ax.set_title(r\"Effect of binding ratio on microtubule growth\")\n",
    "\n",
    "# save the figure\n",
    "fig.savefig(figure_dir / r\"growth_effect\")"
   ]
  },
  {
   "cell_type": "markdown",
   "metadata": {},
   "source": [
    "### Plot Binding Asymmetry"
   ]
  },
  {
   "cell_type": "code",
   "execution_count": 98,
   "metadata": {},
   "outputs": [
    {
     "data": {
      "image/png": "[encoded data removed]",
      "text/plain": [
       "<Figure size 800x800 with 1 Axes>"
      ]
     },
     "metadata": {},
     "output_type": "display_data"
    }
   ],
   "source": [
    "# make a grouped bar plot of binding asymmetry\n",
    "# on the horizontal: ratio of tau binding rate to map6 binding rate\n",
    "# on the vertical:\n",
    "# 1. tau plus end density to stable domain density ratio (tauasymm)\n",
    "# 2. map6 plus end density to stable domain density ratio (mapasymm)\n",
    "\n",
    "# define the group data and group labels\n",
    "group_data = {\"tauasymm\": sim_avg_df[\"tauplusendasym\"], \"mapasymm\": sim_avg_df[\"mapplusendasym\"]}\n",
    "group_labels = sim_avg_df.index\n",
    "\n",
    "# define the figure\n",
    "fig, ax = plt.subplots()\n",
    "\n",
    "# plot the data\n",
    "fig, ax = grouped_bar_plot(fig, ax, group_data, group_labels, multiplier=1/2)\n",
    "\n",
    "# add a margin via xmargin to the x axis\n",
    "ax.margins(x=0.1)\n",
    "\n",
    "# set the labels\n",
    "ax.set_xlabel(r\"Ratio of tau binding rate to map6 binding rate\")\n",
    "ax.set_ylabel(r\"Plus end density to stable domain density ratio\")\n",
    "ax.set_title(r\"Binding asymmetry\")\n",
    "\n",
    "# set the legend\n",
    "ax.legend(loc=\"upper left\")\n",
    "\n",
    "# save the figure\n",
    "fig.savefig(figure_dir / r\"asymm_effect\")"
   ]
  },
  {
   "cell_type": "markdown",
   "metadata": {},
   "source": [
    "### Plot Distribution Dependence on Tau On-Rate"
   ]
  },
  {
   "cell_type": "code",
   "execution_count": 99,
   "metadata": {},
   "outputs": [
    {
     "data": {
      "image/png": "[encoded data removed]",
      "text/plain": [
       "<Figure size 800x800 with 1 Axes>"
      ]
     },
     "metadata": {},
     "output_type": "display_data"
    }
   ],
   "source": [
    "# make a grouped bar plot\n",
    "# on the horizontal: ratio of tau binding rate to map6 binding rate\n",
    "# on the vertical:\n",
    "# 1. plus-end tau fraction (taufractip)\n",
    "# 2. plus-end map6 fraction (mapfractip)\n",
    "# 3. stable domain tau fraction (taufraclength)\n",
    "# 4. stable domain map6 fraction (mapfraclength)\n",
    "\n",
    "# define the group data and group labels (T0/M0)\n",
    "group_data = {\n",
    "    \"taufractip\": sim_avg_df[\"taufractip\"],\n",
    "    \"mapfractip\": sim_avg_df[\"mapfractip\"],\n",
    "    \"taufraclength\": sim_avg_df[\"taufraclength\"],\n",
    "    \"mapfraclength\": sim_avg_df[\"mapfraclength\"],\n",
    "}\n",
    "group_labels = sim_avg_df.index\n",
    "\n",
    "# define the colors\n",
    "colors = [\"orange\", \"blue\", \"grey\", \"green\"]\n",
    "\n",
    "# define the figure\n",
    "fig, ax = plt.subplots()\n",
    "\n",
    "# plot the data\n",
    "fig, ax = grouped_bar_plot(fig, ax, group_data, group_labels, multiplier=-1/2)\n",
    "\n",
    "# add a margin via xmargin to the x axis\n",
    "ax.margins(x=0.1)\n",
    "\n",
    "# set the labels\n",
    "ax.set_xlabel(r\"Ratio of tau binding rate to map6 binding rate (map6 rate constant)\")\n",
    "ax.set_ylabel(r\"Fraction of binding sites bound with this MAP\")\n",
    "ax.set_title(r\"Tau and Map6 distribution on MT: dependence on tau on rate\")\n",
    "\n",
    "# add a legend\n",
    "ax.legend()\n",
    "\n",
    "# save the figure\n",
    "fig.savefig(figure_dir / r\"binding_distribution_grouped\")"
   ]
  },
  {
   "cell_type": "markdown",
   "metadata": {},
   "source": [
    "## Group Sim Plotting"
   ]
  },
  {
   "cell_type": "markdown",
   "metadata": {},
   "source": [
    "### Plot MT Length Over Time"
   ]
  },
  {
   "cell_type": "code",
   "execution_count": 100,
   "metadata": {},
   "outputs": [],
   "source": [
    "# define a function to plot the mt length over time\n",
    "# function should be similar to plot_clusters\n",
    "def plot_mt_length(fig, ax, sim_dict: dict, sim_df: pd.DataFrame, colors: list = None):\n",
    "    \"\"\"Plots the microtubule length over time for each simulation\n",
    "\n",
    "    Arguments:\n",
    "        fig -- _description_\n",
    "        ax -- _description_\n",
    "        sim_dict -- _description_\n",
    "        sim_df -- _description_\n",
    "\n",
    "    Returns:\n",
    "        _description_\n",
    "    \"\"\"\n",
    "\n",
    "    # get a list of colors to iterate over\n",
    "    if colors is None:\n",
    "        colors = list(colormaps[\"tab10\"].colors)\n",
    "\n",
    "    # define a dictionary to color similar tau_ratios\n",
    "    tau_ratio_dict = {}\n",
    "\n",
    "    # iterate over each simulation in sim_dict and get the time and length array\n",
    "    for sim_name in sim_dict.keys():\n",
    "        # get the arrays\n",
    "        mt_length_array = sim_dict[sim_name][\"MTlength\"]\n",
    "        length_list = mt_length_array[:, 1]\n",
    "        time_list = mt_length_array[:, 0]\n",
    "\n",
    "        # get the tau binding rate T0 ratio\n",
    "        tau_ratio = sim_df[\"T0/M0\"][sim_name]\n",
    "\n",
    "        # define the label\n",
    "        label = r\"$\\tau_{\\text{on}}=\" + f\"{tau_ratio}\" + r\"\\ \\text{map}_\\text{on}$\"\n",
    "\n",
    "        # get a unique color for each tau ratio\n",
    "        # if the color has been used, make the label None\n",
    "        if tau_ratio not in tau_ratio_dict.keys():\n",
    "            tau_ratio_dict[tau_ratio] = colors.pop(0)\n",
    "        else:\n",
    "            label = None\n",
    "\n",
    "        # plot the length over time for this mt\n",
    "        ax.plot(\n",
    "            time_list,\n",
    "            length_list,\n",
    "            label=label,\n",
    "            color=tau_ratio_dict[tau_ratio]\n",
    "        )\n",
    "\n",
    "    # set the axis limits\n",
    "    # the x limit should be the final time plus the second time\n",
    "    # this has the effect of showing an \"even\" value\n",
    "    ax.set_xlim(0, time_list[-1] + time_list[1])\n",
    "\n",
    "    # set the labels\n",
    "    ax.set_xlabel(r\"Time $\\left[\\qty{}{\\second}\\right]$\")\n",
    "    ax.set_ylabel(r\"Microtubule length $\\left[\\qty{}{\\micro\\meter}\\right]$\")\n",
    "    ax.set_title(r\"Microtubule growth over time\")\n",
    "\n",
    "    # add a legend\n",
    "    ax.legend()"
   ]
  },
  {
   "cell_type": "code",
   "execution_count": 101,
   "metadata": {},
   "outputs": [
    {
     "data": {
      "image/png": "[encoded data removed]",
      "text/plain": [
       "<Figure size 800x800 with 1 Axes>"
      ]
     },
     "metadata": {},
     "output_type": "display_data"
    }
   ],
   "source": [
    "# plot the length of the mt over time\n",
    "# define the figure\n",
    "fig, ax = plt.subplots()\n",
    "\n",
    "# plot the mt length over time\n",
    "plot_mt_length(fig, ax, sim_dict, sim_df)\n",
    "\n",
    "# save the figure\n",
    "fig.savefig(figure_dir / r\"mt_growth_over_time\")"
   ]
  },
  {
   "cell_type": "markdown",
   "metadata": {},
   "source": [
    "## Individual Plotting"
   ]
  },
  {
   "cell_type": "markdown",
   "metadata": {},
   "source": [
    "### Plot tau map6 Distribution"
   ]
  },
  {
   "cell_type": "code",
   "execution_count": 102,
   "metadata": {},
   "outputs": [
    {
     "data": {
      "text/html": [
       "<pre style=\"white-space:pre;overflow-x:auto;line-height:normal;font-family:Menlo,'DejaVu Sans Mono',consolas,'Courier New',monospace\">Available simulations:\n",
       " <span style=\"color: #008080; text-decoration-color: #008080; font-weight: bold\">0</span> 10_false\n",
       " <span style=\"color: #008080; text-decoration-color: #008080; font-weight: bold\">1</span> 50_false\n",
       " <span style=\"color: #008080; text-decoration-color: #008080; font-weight: bold\">2</span> 1_false\n",
       "</pre>\n"
      ],
      "text/plain": [
       "Available simulations:\n",
       " \u001b[1;36m0\u001b[0m 10_false\n",
       " \u001b[1;36m1\u001b[0m 50_false\n",
       " \u001b[1;36m2\u001b[0m 1_false\n"
      ]
     },
     "metadata": {},
     "output_type": "display_data"
    }
   ],
   "source": [
    "# print the sim options\n",
    "print(\"Available simulations:\\n\", \"\\n \".join([f\"{i} {sim_name}\" for i, sim_name in enumerate(sim_dict.keys())]))"
   ]
  },
  {
   "cell_type": "code",
   "execution_count": 103,
   "metadata": {},
   "outputs": [
    {
     "data": {
      "text/html": [
       "<pre style=\"white-space:pre;overflow-x:auto;line-height:normal;font-family:Menlo,'DejaVu Sans Mono',consolas,'Courier New',monospace\">Plotting <span style=\"color: #008000; text-decoration-color: #008000\">'10_false'</span><span style=\"color: #800080; text-decoration-color: #800080\">/</span><span style=\"font-weight: bold\">[</span><span style=\"color: #008000; text-decoration-color: #008000\">'10_false'</span>, <span style=\"color: #008000; text-decoration-color: #008000\">'50_false'</span>, <span style=\"color: #008000; text-decoration-color: #008000\">'1_false'</span><span style=\"font-weight: bold\">]</span>.\n",
       "</pre>\n"
      ],
      "text/plain": [
       "Plotting \u001b[32m'10_false'\u001b[0m\u001b[35m/\u001b[0m\u001b[1m[\u001b[0m\u001b[32m'10_false'\u001b[0m, \u001b[32m'50_false'\u001b[0m, \u001b[32m'1_false'\u001b[0m\u001b[1m]\u001b[0m.\n"
      ]
     },
     "metadata": {},
     "output_type": "display_data"
    }
   ],
   "source": [
    "# define the name of the sim to plot\n",
    "sim_name = list(sim_dict.keys())[0]\n",
    "print(f\"Plotting '{sim_name}'/{list(sim_dict.keys())}.\")"
   ]
  },
  {
   "cell_type": "code",
   "execution_count": 104,
   "metadata": {},
   "outputs": [],
   "source": [
    "# define a function to extract the distribution information\n",
    "# should take inputs of name, time step, and sim dict\n",
    "def extract_distribution(name: str, time_step: int, sim_dict: dict):\n",
    "    \"\"\"Extracts the distribution information from a simulation\n",
    "\n",
    "    Arguments:\n",
    "        name {str} -- name of the simulation in the sim_dict\n",
    "        time_step {int} -- time step of the simulation\n",
    "        sim_dict {dict} -- dictionary of simulation data\n",
    "\n",
    "    Returns:\n",
    "        tuple -- (time, length, mt_state_array, grid_spacing)\n",
    "    \"\"\"\n",
    "\n",
    "    # extract some values\n",
    "    time_value = sim_dict[name][\"t\"][time_step]\n",
    "    length_value = sim_dict[name][\"MTlength\"][time_step][1]\n",
    "\n",
    "    # get that row of MTgrid\n",
    "    mt_state = sim_dict[name][\"MTgrid\"][time_step]\n",
    "\n",
    "    # get the first index of -1 from mt_state, then remove all entries beyond\n",
    "    # consider that there may be no entries of -1\n",
    "    try:\n",
    "        minus_one_index = np.where(mt_state == -1)[0][0]\n",
    "        mt_state = mt_state[:minus_one_index]\n",
    "    except IndexError:\n",
    "        pass\n",
    "\n",
    "    # calculate grid information\n",
    "    binding_sites = len(mt_state)\n",
    "    grid_spacing = length_value / (binding_sites - 1)\n",
    "    grid_positions = np.linspace(0, length_value, binding_sites)\n",
    "\n",
    "    # join grid_positions and mt_state as columns in a np array\n",
    "    mt_state_array = np.column_stack((grid_positions, mt_state))\n",
    "\n",
    "    # return\n",
    "    return time_value, length_value, mt_state_array, grid_spacing"
   ]
  },
  {
   "cell_type": "code",
   "execution_count": 105,
   "metadata": {},
   "outputs": [],
   "source": [
    "# define a function to extract the domain information\n",
    "# function should call extract_distribution\n",
    "def extract_sequences(name: str, time_step: int, sim_dict: dict):\n",
    "    \"\"\"Extracts the sequence information from a simulation\n",
    "\n",
    "    Arguments:\n",
    "        name {str} -- name of the simulation in the sim_dict\n",
    "        time_step {int} -- time step of the simulation\n",
    "        sim_dict {dict} -- dictionary of simulation data\n",
    "\n",
    "    Returns:\n",
    "        pd.DataFrame -- dataframe of sequence information\n",
    "    \"\"\"\n",
    "\n",
    "    # extract the distribution information\n",
    "    _, _, mt_state_array, _ = extract_distribution(name, time_step, sim_dict)\n",
    "\n",
    "    # define the sequence dictionary\n",
    "    sequence_dict = {\n",
    "        \"start_pos\": [],\n",
    "        \"width\": [],\n",
    "        \"end_pos\": [],\n",
    "        \"center_pos\": [],\n",
    "        \"num_proteins\": [],\n",
    "        \"protein_type\": []\n",
    "    }\n",
    "\n",
    "    # track the start position of the current sequence and protein type\n",
    "    start_pos = mt_state_array[0][0]\n",
    "    start_index = 0\n",
    "    protein_type = mt_state_array[0][1]\n",
    "\n",
    "    # iterate over the mt_state_array\n",
    "    for i, (pos, protein) in enumerate(mt_state_array):\n",
    "        # check if the protein type has changed or its the last entry\n",
    "        if protein != protein_type or i == len(mt_state_array) - 1:\n",
    "            # calculate the sequence width and center\n",
    "            domain_width = pos - start_pos\n",
    "            domain_center = start_pos + domain_width / 2\n",
    "\n",
    "            # append the sequence to the sequence_dict\n",
    "            sequence_dict[\"start_pos\"].append(start_pos)\n",
    "            sequence_dict[\"width\"].append(domain_width)\n",
    "            sequence_dict[\"end_pos\"].append(pos)\n",
    "            sequence_dict[\"center_pos\"].append(domain_center)\n",
    "            sequence_dict[\"num_proteins\"].append(int(i - start_index))\n",
    "            sequence_dict[\"protein_type\"].append(int(protein_type))\n",
    "\n",
    "            # update the start position and protein type\n",
    "            start_pos = pos\n",
    "            start_index = i\n",
    "            protein_type = protein\n",
    "\n",
    "    # convert the sequence_dict to a dataframe\n",
    "    sequence_df = pd.DataFrame(sequence_dict)\n",
    "\n",
    "    # return\n",
    "    return sequence_df"
   ]
  },
  {
   "cell_type": "code",
   "execution_count": 106,
   "metadata": {},
   "outputs": [],
   "source": [
    "# define a function to plot groups based on clusters\n",
    "# should take input of fig, ax\n",
    "# should not save the plot\n",
    "# should take optional input of a color list\n",
    "# should call extract_distribution and extract_sequence as needed\n",
    "def plot_clusters(\n",
    "    fig, ax,\n",
    "    name: str,\n",
    "    sim_dict: dict,\n",
    "    time_step: int = -1,\n",
    "    colors: list = None,\n",
    "    invert_map6: bool = True,\n",
    "    protein_points_size: int = 0,\n",
    "    horizontal_line: bool = True,\n",
    "    binding_ticks: bool = False,\n",
    "    legend_loc: str = \"upper left\",\n",
    "    yabs_max_override: int = None,\n",
    "    ):\n",
    "    \"\"\"Plots the protein clusters along a microtubule\n",
    "\n",
    "    Arguments:\n",
    "        fig -- figure object\n",
    "        ax -- axis object\n",
    "        name {str} -- name of the simulation in the sim_dict\n",
    "        sim_dict {dict} -- dictionary of simulation data\n",
    "\n",
    "    Keyword Arguments:\n",
    "        time_step {int} -- time step of the simulation (default: {-1})\n",
    "        colors {list} -- list of colors for the protein types (default: {None})\n",
    "        invert_map6 {bool} -- invert the map6 axis for readability (default: {True})\n",
    "        protein_points_size {int} -- size of the protein points on the horizontal axis (default: {0})\n",
    "        horizontal_line {bool} -- draw a horizontal line at y=0 (default: {True})\n",
    "        binding_ticks {bool} -- show ticks for each binding site on the horizontal axis (default: {False})\n",
    "        legend_loc {str} -- location of the legend (default: {\"upper left\"})\n",
    "        yabs_max_override {int} -- override the y-axis maximum value (default: {None})\n",
    "    \"\"\"\n",
    "\n",
    "    # extract the distribution information\n",
    "    _, length_value, mt_state_array, grid_spacing = extract_distribution(name, time_step, sim_dict)\n",
    "\n",
    "    # extract the sequence information\n",
    "    # this was previously called the domain information\n",
    "    sequence_df = extract_sequences(name, time_step, sim_dict)\n",
    "\n",
    "    # get a list of colors\n",
    "    if colors is None:\n",
    "        colors = colormaps[\"tab10\"].colors\n",
    "\n",
    "    # define tau and map6 colors\n",
    "    tau_color = colors[0]\n",
    "    map6_color = colors[1]\n",
    "\n",
    "    # use the sequence_df to plot the sequence information\n",
    "    for (i, start_pos, width, end_pos, center_pos, num_proteins, protein_type) in sequence_df.itertuples():\n",
    "        # skip protein_type 0\n",
    "        if protein_type == 0: continue\n",
    "\n",
    "        # use the protein type to determine the color\n",
    "        if protein_type == 1: color = tau_color\n",
    "        elif protein_type == 2: color = map6_color\n",
    "\n",
    "        # get height_scale and check for map6 inversion\n",
    "        height_scale = 1\n",
    "        if protein_type == 2 and invert_map6:\n",
    "            height_scale = -1\n",
    "\n",
    "        # use a point with a horizontal error bar\n",
    "        ax.errorbar(\n",
    "            center_pos,\n",
    "            num_proteins*height_scale,\n",
    "            xerr=width / 2,\n",
    "            fmt=\"o\",\n",
    "            color=\"black\",\n",
    "            markersize=0\n",
    "        )\n",
    "\n",
    "        # shade the region below the bar with no outline\n",
    "        ax.fill_between(\n",
    "            [start_pos, end_pos],\n",
    "            0,\n",
    "            num_proteins*height_scale,\n",
    "            color=color,\n",
    "            alpha=1,\n",
    "            linewidth=0,\n",
    "            zorder=0,\n",
    "        )\n",
    "\n",
    "    # plot each protein on the horizontal if protein points\n",
    "    if protein_points_size != 0:\n",
    "        for (pos, protein) in mt_state_array:\n",
    "            # protein = 1 means tau\n",
    "            # protein = 2 means map6\n",
    "            # check that the protein value is not 0\n",
    "            if protein == 0: continue\n",
    "\n",
    "            # use the protein value to determine the color\n",
    "            if protein == 1: color = tau_color\n",
    "            elif protein == 2: color = map6_color\n",
    "\n",
    "            # plot the protein as a dot with a black outline\n",
    "            protein_pos = pos + grid_spacing/2\n",
    "            ax.scatter(protein_pos, 0, color=color, s=protein_points_size, edgecolors=\"black\", zorder=2)\n",
    "\n",
    "    # plot a horizontal line at y=0\n",
    "    # the line should be the length of the mt at the current time step\n",
    "    # plot the line in the background\n",
    "    if horizontal_line:\n",
    "        # ax.axhline(0, color=\"black\", zorder=1)\n",
    "        ax.plot([0, length_value], [0, 0], color=\"black\", zorder=1)\n",
    "\n",
    "    # get the largest value on the y axis after plotting\n",
    "    if yabs_max_override is not None:\n",
    "        yabs_max = yabs_max_override\n",
    "    else:\n",
    "        yabs_max = abs(max(ax.get_ylim(), key=abs))\n",
    "\n",
    "    # force largest value to be the next highest multiple of 5\n",
    "    yabs_max = 5 * (yabs_max // 5 + 1)\n",
    "\n",
    "    # set the y axis limits\n",
    "    ax.set_ylim(ymin=-yabs_max, ymax=yabs_max)\n",
    "\n",
    "    # relabel the y-axis in absolute value using a formatter\n",
    "    ax.yaxis.set_major_locator(MaxNLocator(integer=True))\n",
    "    ax.yaxis.set_major_formatter(plt.FuncFormatter(lambda x, _: f\"{abs(x):.0f}\"))\n",
    "\n",
    "    # plot small vertical bars for each binding site\n",
    "    # the vertical bars should be centered on y=0\n",
    "    # they vertical bars should extend vertically just a small amount\n",
    "    if binding_ticks:\n",
    "        for pos in mt_state_array[:, 0]:\n",
    "            # scale the height by the y-axis limit\n",
    "            height = 2 * ax.get_ylim()[0] / 100\n",
    "            ax.vlines(pos, -height, height, color=\"black\")\n",
    "\n",
    "    # set the xlim to (0, mt length at current time)\n",
    "    ax.set_xlim(0, length_value)\n",
    "\n",
    "    # set the labels\n",
    "    ax.set_xlabel(r\"Position along microtubule $\\left[\\qty{}{\\micro\\meter}\\right]$\")\n",
    "    ax.set_ylabel(r\"Number of proteins in uninterupted sequence\")\n",
    "    ax.set_title(r\"Protein cluster distribution along microtubule\")\n",
    "\n",
    "    # add a legend with a label for map6 and tau using artists\n",
    "    # the label should be a colored rectangle\n",
    "    tau_label = plt.Rectangle((0, 0), 1, 1, fc=tau_color, edgecolor=\"black\")\n",
    "    map6_label = plt.Rectangle((0, 0), 1, 1, fc=map6_color, edgecolor=\"black\")\n",
    "\n",
    "    # define artists for the protein dots\n",
    "    # include the outline\n",
    "    tau_dot = plt.Line2D([0], [0], marker=\"o\", color=\"w\", markerfacecolor=tau_color, markersize=10, markeredgewidth=1, markeredgecolor=\"black\")\n",
    "    map6_dot = plt.Line2D([0], [0], marker=\"o\", color=\"w\", markerfacecolor=map6_color, markersize=10, markeredgewidth=1, markeredgecolor=\"black\")\n",
    "\n",
    "    # add legend to the upper-left depening on protein print status\n",
    "    if protein_points_size != 0:\n",
    "        ax.legend(\n",
    "            [tau_label, tau_dot, map6_label, map6_dot],\n",
    "            [\"Tau Cluster\", \"Tau Protein\", \"Map6 Cluster\", \"Map6 Protein\"],\n",
    "            loc=legend_loc)\n",
    "    else:\n",
    "        ax.legend(\n",
    "            [tau_label, map6_label],\n",
    "            [\"Tau Sequence\", \"Map6 Sequence\"],\n",
    "            loc=legend_loc)\n"
   ]
  },
  {
   "cell_type": "code",
   "execution_count": 107,
   "metadata": {},
   "outputs": [
    {
     "data": {
      "image/png": "[encoded data removed]",
      "text/plain": [
       "<Figure size 1600x900 with 1 Axes>"
      ]
     },
     "metadata": {},
     "output_type": "display_data"
    }
   ],
   "source": [
    "# plot the protein cluster distribution using the function\n",
    "# define the figure\n",
    "fig, ax = plt.subplots(figsize=(16, 9))\n",
    "\n",
    "# plot the clusters\n",
    "plot_clusters(fig, ax, name=sim_name, sim_dict=sim_dict, time_step=-1, protein_points_size=0, binding_ticks=False)\n",
    "\n",
    "# save the figure\n",
    "fig.savefig(figure_dir / f\"{sim_name}_protein_cluster_distribution\")"
   ]
  },
  {
   "cell_type": "markdown",
   "metadata": {},
   "source": [
    "#### Plot earlier time step"
   ]
  },
  {
   "cell_type": "code",
   "execution_count": 108,
   "metadata": {},
   "outputs": [
    {
     "data": {
      "image/png": "[encoded data removed]",
      "text/plain": [
       "<Figure size 1600x900 with 1 Axes>"
      ]
     },
     "metadata": {},
     "output_type": "display_data"
    }
   ],
   "source": [
    "# plot the protein cluster distribution using the function\n",
    "# define the figure\n",
    "fig, ax = plt.subplots(figsize=(16, 9))\n",
    "\n",
    "# plot the clusters\n",
    "plot_clusters(fig, ax, name=sim_name, sim_dict=sim_dict, time_step=500, protein_points_size=50, binding_ticks=True)\n",
    "\n",
    "# save the figure\n",
    "fig.savefig(figure_dir / f\"{sim_name}_protein_cluster_distribution_explainer\")"
   ]
  },
  {
   "cell_type": "markdown",
   "metadata": {},
   "source": [
    "# Animations"
   ]
  },
  {
   "cell_type": "markdown",
   "metadata": {},
   "source": [
    "## Configuration"
   ]
  },
  {
   "cell_type": "code",
   "execution_count": 109,
   "metadata": {},
   "outputs": [],
   "source": [
    "# define the animation generation function\n",
    "def create_protein_animation(save_path: Path, sim_name: str, sim_dict: dict, frame_rate: int = 60, anim_time: int = 10, overwrite: bool = False, protein_points_size: int = 0, binding_ticks: bool = False, override_yaxis: bool = True):\n",
    "    \"\"\"Creates an animation of the protein clusters along the microtubule\n",
    "\n",
    "    Arguments:\n",
    "        save_path {Path} -- path to save the animation\n",
    "        sim_name {str} -- name of the simulation in the sim_dict\n",
    "        sim_dict {dict} -- dictionary of simulation data\n",
    "\n",
    "    Keyword Arguments:\n",
    "        frame_rate {int} -- frame rate of the animation in frames per second (default: {60})\n",
    "        anim_time {int} -- desired runtime of the animation in seconds (default: {10})\n",
    "        overwrite {bool} -- whether to overwrite the save_path if it already exists (default: {False})\n",
    "        protein_points_size {int} -- size of the protein points on the horizontal axis (default: {0})\n",
    "        binding_ticks {bool} -- show ticks for each binding site on the horizontal axis (default: {False})\n",
    "        override_yaxis {bool} -- override the y-axis maximum value (default: {True})\n",
    "    \"\"\"\n",
    "\n",
    "    # validate the save path (check that it is a path and exists and is empty)\n",
    "    # the save path could be a string or other pathlike but it will be recast\n",
    "    if isinstance(save_path, str):\n",
    "        save_path = Path(save_path)\n",
    "\n",
    "    if not isinstance(save_path, Path):\n",
    "        raise ValueError(\"save_path must be a Path object.\")\n",
    "\n",
    "    if save_path.exists() and not overwrite:\n",
    "        raise FileExistsError(f\"File '{save_path}' already exists. Set 'overwrite=True' to overwrite the file.\")\n",
    "\n",
    "    # validate the sim name\n",
    "    if sim_name not in sim_dict.keys():\n",
    "        raise ValueError(f\"Simulation '{sim_name}' not found in sim_dict. Available simulations: {list(sim_dict.keys())}.\")\n",
    "\n",
    "    # get the frame count\n",
    "    frame_count = anim_time * frame_rate\n",
    "\n",
    "    # get time step information\n",
    "    max_time_step = sim_dict[sim_name][\"t\"].shape[0]\n",
    "    time_steps = np.linspace(0, max_time_step-1, frame_count, dtype=int)\n",
    "\n",
    "    # generate an animation from the frames\n",
    "    # get the max mt length for the simulation\n",
    "    max_mt_length = sim_dict[sim_name][\"MTlength\"][:, 1].max()\n",
    "\n",
    "    # get the largest cluster size\n",
    "    # iterate over each time step and extract sequence information\n",
    "    # then save the largest num_proteins\n",
    "    max_protein_count = 0\n",
    "    if override_yaxis:\n",
    "        for time_step in time_steps:\n",
    "            sequence_df = extract_sequences(sim_name, time_step, sim_dict)\n",
    "            max_protein_count = max(max_protein_count, sequence_df[\"num_proteins\"].max())\n",
    "\n",
    "    # if the max_protein_count is 0 then set it to none to let the drawing function handle it\n",
    "    if max_protein_count == 0:\n",
    "        max_protein_count = None\n",
    "\n",
    "    # define the figure\n",
    "    fig, ax = plt.subplots(figsize=(16, 9), layout=\"constrained\")\n",
    "    # fig.tight_layout()\n",
    "\n",
    "    # define the animation\n",
    "    def animate(i):\n",
    "        # plot the clusters\n",
    "        ax.clear()\n",
    "        plot_clusters(\n",
    "            fig, ax,\n",
    "            name=sim_name,\n",
    "            sim_dict=sim_dict,\n",
    "            time_step=time_steps[i],\n",
    "            protein_points_size=protein_points_size,\n",
    "            binding_ticks=binding_ticks,\n",
    "            yabs_max_override=max_protein_count)\n",
    "\n",
    "        # set the x-axis limits to the max mt length\n",
    "        ax.set_xlim(0, max_mt_length)\n",
    "\n",
    "        # add the frame number and time to the top center of the plot\n",
    "        frame_time = sim_dict[sim_name][\"t\"][time_steps[i]]\n",
    "        step_str = f\"Step: {time_steps[i]+1}/{max_time_step}\"\n",
    "        time_str = r\"Time: \\qty{\" + f\"{frame_time:.2f}\" + r\"}{\\second}\"\n",
    "        ax.text(0.5, 0.05,\n",
    "                time_str + r\"\\(\\qquad\\qquad\\)\" + step_str,\n",
    "                horizontalalignment=\"center\",\n",
    "                verticalalignment=\"center\",\n",
    "                transform=ax.transAxes)\n",
    "\n",
    "    # calculate the time interval from desired runtime and\n",
    "    # frame count [second / frame]\n",
    "    interval = anim_time / frame_count\n",
    "    # [millisecond / frame]\n",
    "    scaled_interval = interval * 1000\n",
    "\n",
    "    # create the animation\n",
    "    with tqdm(total=frame_count, desc=\"Generating Frames\") as pbar:\n",
    "        def update(*args):\n",
    "            pbar.update(1)\n",
    "\n",
    "        # generate the animation function\n",
    "        animation = FuncAnimation(\n",
    "            fig,\n",
    "            animate,\n",
    "            frames=frame_count,\n",
    "            interval=scaled_interval,\n",
    "            repeat=False)\n",
    "\n",
    "        # iterate over the animation function and save\n",
    "        pbar.set_description(f\"Generating Animation: '{save_path.name}'\")\n",
    "        animation.save(save_path, writer=\"ffmpeg\", progress_callback=update, dpi=100)\n",
    "\n",
    "    # close the figure\n",
    "    plt.close(fig)"
   ]
  },
  {
   "cell_type": "code",
   "execution_count": 110,
   "metadata": {},
   "outputs": [],
   "source": [
    "# define the frame directory and create it\n",
    "frame_dir = Path(\"frames\", data_dir.parts[-1])\n",
    "os.makedirs(frame_dir, exist_ok=True)\n",
    "\n",
    "# define the animation directory and create it\n",
    "animation_dir = Path(\"animations\", data_dir.parts[-1])\n",
    "os.makedirs(animation_dir, exist_ok=True)"
   ]
  },
  {
   "cell_type": "markdown",
   "metadata": {},
   "source": [
    "## Animation Generation"
   ]
  },
  {
   "cell_type": "code",
   "execution_count": 111,
   "metadata": {},
   "outputs": [
    {
     "data": {
      "text/html": [
       "<pre style=\"white-space:pre;overflow-x:auto;line-height:normal;font-family:Menlo,'DejaVu Sans Mono',consolas,'Courier New',monospace\">Available simulations:\n",
       " <span style=\"color: #008080; text-decoration-color: #008080; font-weight: bold\">0</span> 10_false\n",
       " <span style=\"color: #008080; text-decoration-color: #008080; font-weight: bold\">1</span> 50_false\n",
       " <span style=\"color: #008080; text-decoration-color: #008080; font-weight: bold\">2</span> 1_false\n",
       "</pre>\n"
      ],
      "text/plain": [
       "Available simulations:\n",
       " \u001b[1;36m0\u001b[0m 10_false\n",
       " \u001b[1;36m1\u001b[0m 50_false\n",
       " \u001b[1;36m2\u001b[0m 1_false\n"
      ]
     },
     "metadata": {},
     "output_type": "display_data"
    }
   ],
   "source": [
    "# print the sim options\n",
    "print(\"Available simulations:\\n\", \"\\n \".join([f\"{i} {sim_name}\" for i, sim_name in enumerate(sim_dict.keys())]))"
   ]
  },
  {
   "cell_type": "code",
   "execution_count": 112,
   "metadata": {},
   "outputs": [],
   "source": [
    "# # define the sim name\n",
    "# sim_name = list(sim_dict.keys())[4]\n",
    "# print(f\"Animating '{sim_name}' \\\\ {list(sim_dict.keys())}.\")\n",
    "\n",
    "# # define the desired runtime in seconds\n",
    "# anim_time = 10\n",
    "# frame_rate = 30\n",
    "\n",
    "# # generate animations for different parameters\n",
    "# create_protein_animation(\n",
    "#     save_path=animation_dir / f\"{sim_name}_animation_proteins.mp4\",\n",
    "#     sim_name=sim_name,\n",
    "#     sim_dict=sim_dict,\n",
    "#     frame_rate=frame_rate,\n",
    "#     anim_time=anim_time,\n",
    "#     overwrite=True,\n",
    "#     protein_points_size=30,\n",
    "#     binding_ticks=True)\n"
   ]
  },
  {
   "cell_type": "code",
   "execution_count": 113,
   "metadata": {},
   "outputs": [],
   "source": [
    "# # generate animations of all simulations\n",
    "# for sim_name in sim_dict.keys():\n",
    "#     create_protein_animation(\n",
    "#         save_path=animation_dir / f\"{sim_name}_animation_proteins.mp4\",\n",
    "#         sim_name=sim_name,\n",
    "#         sim_dict=sim_dict,\n",
    "#         frame_rate=frame_rate,\n",
    "#         anim_time=anim_time,\n",
    "#         overwrite=True,\n",
    "#         protein_points_size=30,\n",
    "#         binding_ticks=True)\n"
   ]
  },
  {
   "cell_type": "code",
   "execution_count": null,
   "metadata": {},
   "outputs": [],
   "source": []
  }
 ],
 "metadata": {
  "kernelspec": {
   "display_name": "biophysics",
   "language": "python",
   "name": "python3"
  },
  "language_info": {
   "codemirror_mode": {
    "name": "ipython",
    "version": 3
   },
   "file_extension": ".py",
   "mimetype": "text/x-python",
   "name": "python",
   "nbconvert_exporter": "python",
   "pygments_lexer": "ipython3",
   "version": "3.11.4"
  }
 },
 "nbformat": 4,
 "nbformat_minor": 2
}
