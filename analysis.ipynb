{
 "cells": [
  {
   "cell_type": "markdown",
   "metadata": {},
   "source": [
    "# Analysis\n",
    "\n",
    "This notebook is the primary analysis notebook for tau_map6 simulations. This is loosely based off `first_analysis.ipynb` with additional functionality from `data_process_funcs.py`."
   ]
  },
  {
   "cell_type": "markdown",
   "metadata": {},
   "source": [
    "## Notebook Configuration"
   ]
  },
  {
   "cell_type": "code",
   "execution_count": 1,
   "metadata": {},
   "outputs": [],
   "source": [
    "# import packages\n",
    "import os\n",
    "from pathlib import Path\n",
    "\n",
    "import pandas as pd\n",
    "import numpy as np\n",
    "import matplotlib.pyplot as plt\n",
    "\n",
    "from matplotlib import colormaps\n",
    "\n",
    "from rich import print\n",
    "from tqdm import tqdm"
   ]
  },
  {
   "cell_type": "code",
   "execution_count": 2,
   "metadata": {},
   "outputs": [],
   "source": [
    "# import functions\n",
    "from data_process_funcs import *"
   ]
  },
  {
   "cell_type": "code",
   "execution_count": 3,
   "metadata": {},
   "outputs": [],
   "source": [
    "# configure plotting\n",
    "# define the figure save directory\n",
    "figure_dir = Path(\"figures\")\n",
    "os.makedirs(figure_dir, exist_ok=True)\n",
    "\n",
    "# set plot style\n",
    "cstyle_file_url = r\"https://gist.githubusercontent.com/CalvinSprouse/30bba681da1dd0023e948ca207fad0fc/raw/80a1ae94031873a57c9624103e83f5caf175ac86/cstyle.mplstyle\"\n",
    "plt.style.use([\"default\", cstyle_file_url])"
   ]
  },
  {
   "cell_type": "markdown",
   "metadata": {},
   "source": [
    "## Define Functions"
   ]
  },
  {
   "cell_type": "code",
   "execution_count": 4,
   "metadata": {},
   "outputs": [],
   "source": [
    "# define a function to make a grouped bar plot\n",
    "def grouped_bar_plot(fig, ax,\n",
    "                     group_data: dict,\n",
    "                     group_labels: list,\n",
    "                     colors: list = None,\n",
    "                     bar_width: float = 0.2,\n",
    "                     multiplier: float = 0,\n",
    "                     **kwargs):\n",
    "    \"\"\"Plots a grouped bar plot\n",
    "\n",
    "    Arguments:\n",
    "        fig -- _description_\n",
    "        ax -- _description_\n",
    "        group_data -- _description_\n",
    "\n",
    "    Keyword Arguments:\n",
    "        colors -- _description_ (default: {None})\n",
    "        bar_width -- _description_ (default: {0.2})\n",
    "        multiplier -- _description_ (default: {0})\n",
    "\n",
    "    Raises:\n",
    "        ValueError: _description_\n",
    "\n",
    "    Returns:\n",
    "        _description_\n",
    "    \"\"\"\n",
    "\n",
    "    # extract groups from keys of group_data\n",
    "    group_count = len(group_labels)\n",
    "\n",
    "    # the default value of colors should be a built in color list\n",
    "    if colors is None:\n",
    "        colors = colormaps[\"tab10\"].colors\n",
    "    else:\n",
    "        # check if the length of colors is greater than the number of groups\n",
    "        if len(colors) < group_count:\n",
    "            raise ValueError(\"The number of colors provided is less than the number of groups\")\n",
    "\n",
    "    # define the label locations\n",
    "    x_locations = np.arange(group_count)\n",
    "\n",
    "    # plot the bars\n",
    "    for index, attr_meas in enumerate(group_data.items()):\n",
    "        # unpack attr_meas\n",
    "        attribute = attr_meas[0]\n",
    "        measurement = attr_meas[1]\n",
    "\n",
    "        # calculate the offset location of each bar\n",
    "        offset = bar_width * multiplier\n",
    "\n",
    "        # draw the bar and insert kwargs\n",
    "        ax.bar(\n",
    "            x_locations + offset,\n",
    "            measurement,\n",
    "            bar_width,\n",
    "            label=attribute,\n",
    "            color=colors[index],\n",
    "            **kwargs\n",
    "        )\n",
    "\n",
    "        # iterate the multiplier to space the next bar\n",
    "        multiplier += 1\n",
    "\n",
    "    # set the x ticks\n",
    "    ax.set_xticks(x_locations + bar_width, group_labels)\n",
    "\n",
    "    return fig, ax"
   ]
  },
  {
   "cell_type": "markdown",
   "metadata": {},
   "source": [
    "## Import Data"
   ]
  },
  {
   "cell_type": "code",
   "execution_count": 5,
   "metadata": {},
   "outputs": [],
   "source": [
    "# define the data directory\n",
    "data_dir = Path(\"raw_sim_data\")\n",
    "\n",
    "# get the .mat files from data_dir\n",
    "mat_files = list(data_dir.glob(\"*.mat\"))"
   ]
  },
  {
   "cell_type": "code",
   "execution_count": 6,
   "metadata": {},
   "outputs": [],
   "source": [
    "# define a list of variables to extract from mat_files\n",
    "value_list = [\"T0\", \"M0\", \"taufractip\", \"taufraclength\", \"tauplusendasym\", \"mapfractip\", \"mapfraclength\", \"mapplusendasym\", \"L\", \"save_str\", \"t\"]\n",
    "\n",
    "# convert mat files to sim_dict and sim_df\n",
    "sim_dict = extract_sim_dict(mat_files, value_list)\n",
    "sim_df = create_sim_df(sim_dict)"
   ]
  },
  {
   "cell_type": "markdown",
   "metadata": {},
   "source": [
    "## Process Data"
   ]
  },
  {
   "cell_type": "code",
   "execution_count": 9,
   "metadata": {},
   "outputs": [],
   "source": [
    "# calculate new column values\n",
    "# calculate T0/M0\n",
    "sim_df[\"T0/M0\"] = sim_df[\"T0\"] / sim_df[\"M0\"]"
   ]
  },
  {
   "cell_type": "code",
   "execution_count": 11,
   "metadata": {},
   "outputs": [],
   "source": [
    "# create an average df indexed by T0/M0\n",
    "sim_avg_df = sim_df.groupby(\"T0/M0\").mean()"
   ]
  },
  {
   "cell_type": "markdown",
   "metadata": {},
   "source": [
    "## Plotting of Averages DF"
   ]
  },
  {
   "cell_type": "markdown",
   "metadata": {},
   "source": [
    "### Binding Rate Ratio vs. MT Length"
   ]
  },
  {
   "cell_type": "markdown",
   "metadata": {},
   "source": [
    "#### Define Plotting Function"
   ]
  },
  {
   "cell_type": "markdown",
   "metadata": {},
   "source": [
    "### Binding Asymmetry"
   ]
  },
  {
   "cell_type": "markdown",
   "metadata": {},
   "source": [
    "#### Define Plotting Function"
   ]
  },
  {
   "cell_type": "markdown",
   "metadata": {},
   "source": [
    "### Distribution Dependence on Tau On-Rate"
   ]
  },
  {
   "cell_type": "markdown",
   "metadata": {},
   "source": [
    "#### Define Plotting Function"
   ]
  },
  {
   "cell_type": "markdown",
   "metadata": {},
   "source": [
    "## Plotting of Individual Simulations"
   ]
  }
 ],
 "metadata": {
  "kernelspec": {
   "display_name": "biophysics",
   "language": "python",
   "name": "python3"
  },
  "language_info": {
   "codemirror_mode": {
    "name": "ipython",
    "version": 3
   },
   "file_extension": ".py",
   "mimetype": "text/x-python",
   "name": "python",
   "nbconvert_exporter": "python",
   "pygments_lexer": "ipython3",
   "version": "3.10.13"
  }
 },
 "nbformat": 4,
 "nbformat_minor": 2
}
