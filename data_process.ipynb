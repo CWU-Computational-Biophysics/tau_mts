{
 "cells": [
  {
   "cell_type": "markdown",
   "metadata": {},
   "source": [
    "# Data Process\n",
    "\n",
    "This notebook processes simulation data from `raw_sim_data` in the same way as `Asymm_v_T0_121323.xlsx`."
   ]
  },
  {
   "cell_type": "markdown",
   "metadata": {},
   "source": [
    "## Notebook Configuration"
   ]
  },
  {
   "cell_type": "code",
   "execution_count": 1,
   "metadata": {},
   "outputs": [],
   "source": [
    "# import packages\n",
    "import os\n",
    "from pathlib import Path\n",
    "\n",
    "import pandas as pd\n",
    "import numpy as np\n",
    "import scipy.io as sio\n",
    "\n",
    "from rich import print\n",
    "from tqdm import tqdm"
   ]
  },
  {
   "cell_type": "code",
   "execution_count": 2,
   "metadata": {},
   "outputs": [],
   "source": [
    "# define the path to raw sim data\n",
    "raw_data = Path(\"raw_sim_data\")\n",
    "\n",
    "# retrieve .mat files\n",
    "mat_files = list(raw_data.glob(\"*.mat\"))"
   ]
  },
  {
   "cell_type": "code",
   "execution_count": 3,
   "metadata": {},
   "outputs": [],
   "source": [
    "# define a function to extract data from a .mat file\n",
    "def extract_mat_data(mat_file: Path, var_list: list = None, array_list: list = None) -> tuple[dict, dict]:\n",
    "    \"\"\"\n",
    "    Extracts variables and arrays from a .mat file.\n",
    "\n",
    "    Parameters:\n",
    "    mat_file (Path): The path to the .mat file.\n",
    "    var_list (list): A list of variable names to extract.\n",
    "    array_list (list): A list of array names to extract.\n",
    "\n",
    "    Returns:\n",
    "    tuple[dict, dict]: A tuple containing two dictionaries: the first dictionary contains the extracted variables, and the second dictionary contains the extracted arrays.\n",
    "    \"\"\"\n",
    "\n",
    "    # check that the mat_file exists\n",
    "    if not mat_file.exists():\n",
    "        raise FileNotFoundError(f\"File {mat_file} does not exist.\")\n",
    "\n",
    "    # check that var_list or array_list are non-empty\n",
    "    if not var_list and not array_list:\n",
    "        raise ValueError(\"At least one of var_list or array_list must be non-empty.\")\n",
    "\n",
    "    # read the .mat file\n",
    "    mat_data = sio.loadmat(mat_file)\n",
    "\n",
    "    # create dictionaries to store extracted data\n",
    "    var_dict = {}\n",
    "    array_dict = {}\n",
    "\n",
    "    # extract variables\n",
    "    if var_list:\n",
    "        for var_tag in var_list:\n",
    "            var_dict[var_tag] = mat_data.get(var_tag)\n",
    "\n",
    "    # extract arrays\n",
    "    if array_list:\n",
    "        for array_tag in array_list:\n",
    "            array_dict[array_tag] = mat_data.get(array_tag)\n",
    "\n",
    "    # return the dictionaries\n",
    "    return var_dict, array_dict"
   ]
  },
  {
   "cell_type": "markdown",
   "metadata": {},
   "source": [
    "## Extract the Distribution Data\n",
    "\n",
    "This is the data shown in the `.xlsx` file. Each `.mat` file contains one row of this data. From each `.mat` file extract the following variables:\n",
    "- T0\n",
    "- M0\n",
    "- taufractip\n",
    "- taufraclength\n",
    "- tauasymm (tauplusendasymm)\n",
    "- mapfractip\n",
    "- mapfraclength\n",
    "- mapasymm (mapplusendasymm)\n",
    "- L\n",
    "\n",
    "Using the extracted values, calculate the following:\n",
    "- T0/M0"
   ]
  },
  {
   "cell_type": "code",
   "execution_count": 4,
   "metadata": {},
   "outputs": [],
   "source": [
    "# make a list of all variables to extract\n",
    "var_list = [\"T0\", \"M0\", \"taufractip\", \"taufraclength\", \"tauplusendasymm\", \"mapfractip\", \"mapfraclength\", \"mapplusendasymm\", \"L\"]\n"
   ]
  },
  {
   "cell_type": "code",
   "execution_count": 5,
   "metadata": {},
   "outputs": [
    {
     "name": "stderr",
     "output_type": "stream",
     "text": [
      "Extracting data:   0%|          | 0/3 [00:00<?, ?file/s]/Users/sprou/anaconda3/envs/biophysics/lib/python3.10/site-packages/scipy/io/matlab/_mio.py:227: MatReadWarning: Duplicate variable name \"None\" in stream - replacing previous with new\n",
      "Consider mio5.varmats_from_mat to split file into single variable files\n",
      "  matfile_dict = MR.get_variables(variable_names)\n",
      "Extracting data: 100%|██████████| 3/3 [00:00<00:00, 534.65file/s]\n"
     ]
    }
   ],
   "source": [
    "# iterate over each .mat file and extract the var list\n",
    "# each extraction should correspond to a row in a dataframe\n",
    "data = []\n",
    "for mat_file in tqdm(mat_files, desc=\"Extracting data\", unit=\"file\"):\n",
    "    # extract the data\n",
    "    var_dict, array_dict = extract_mat_data(mat_file, var_list, None)\n",
    "\n",
    "    # append the data to the list\n",
    "    data.append(var_dict)\n",
    "\n",
    "# create a dataframe from the data\n",
    "df = pd.DataFrame(data)"
   ]
  },
  {
   "cell_type": "code",
   "execution_count": 6,
   "metadata": {},
   "outputs": [
    {
     "data": {
      "text/html": [
       "<div>\n",
       "<style scoped>\n",
       "    .dataframe tbody tr th:only-of-type {\n",
       "        vertical-align: middle;\n",
       "    }\n",
       "\n",
       "    .dataframe tbody tr th {\n",
       "        vertical-align: top;\n",
       "    }\n",
       "\n",
       "    .dataframe thead th {\n",
       "        text-align: right;\n",
       "    }\n",
       "</style>\n",
       "<table border=\"1\" class=\"dataframe\">\n",
       "  <thead>\n",
       "    <tr style=\"text-align: right;\">\n",
       "      <th></th>\n",
       "      <th>T0</th>\n",
       "      <th>M0</th>\n",
       "      <th>taufractip</th>\n",
       "      <th>taufraclength</th>\n",
       "      <th>tauplusendasymm</th>\n",
       "      <th>mapfractip</th>\n",
       "      <th>mapfraclength</th>\n",
       "      <th>mapplusendasymm</th>\n",
       "      <th>L</th>\n",
       "    </tr>\n",
       "  </thead>\n",
       "  <tbody>\n",
       "    <tr>\n",
       "      <th>0</th>\n",
       "      <td>[[5]]</td>\n",
       "      <td>[[0.1]]</td>\n",
       "      <td>[[0.6363636363636364]]</td>\n",
       "      <td>[[0.37423312883435583]]</td>\n",
       "      <td>None</td>\n",
       "      <td>[[0]]</td>\n",
       "      <td>[[0.37423312883435583]]</td>\n",
       "      <td>None</td>\n",
       "      <td>[[73.4036518366907]]</td>\n",
       "    </tr>\n",
       "    <tr>\n",
       "      <th>1</th>\n",
       "      <td>[[5]]</td>\n",
       "      <td>[[0.1]]</td>\n",
       "      <td>[[0.6363636363636364]]</td>\n",
       "      <td>[[0.4153846153846154]]</td>\n",
       "      <td>None</td>\n",
       "      <td>[[0]]</td>\n",
       "      <td>[[0.33076923076923076]]</td>\n",
       "      <td>None</td>\n",
       "      <td>[[83.7966049636929]]</td>\n",
       "    </tr>\n",
       "    <tr>\n",
       "      <th>2</th>\n",
       "      <td>[[5]]</td>\n",
       "      <td>[[0.1]]</td>\n",
       "      <td>[[0.7272727272727273]]</td>\n",
       "      <td>[[0.4411764705882353]]</td>\n",
       "      <td>None</td>\n",
       "      <td>[[0]]</td>\n",
       "      <td>[[0.3176470588235294]]</td>\n",
       "      <td>None</td>\n",
       "      <td>[[68.41730832422807]]</td>\n",
       "    </tr>\n",
       "  </tbody>\n",
       "</table>\n",
       "</div>"
      ],
      "text/plain": [
       "      T0       M0              taufractip            taufraclength  \\\n",
       "0  [[5]]  [[0.1]]  [[0.6363636363636364]]  [[0.37423312883435583]]   \n",
       "1  [[5]]  [[0.1]]  [[0.6363636363636364]]   [[0.4153846153846154]]   \n",
       "2  [[5]]  [[0.1]]  [[0.7272727272727273]]   [[0.4411764705882353]]   \n",
       "\n",
       "  tauplusendasymm mapfractip            mapfraclength mapplusendasymm  \\\n",
       "0            None      [[0]]  [[0.37423312883435583]]            None   \n",
       "1            None      [[0]]  [[0.33076923076923076]]            None   \n",
       "2            None      [[0]]   [[0.3176470588235294]]            None   \n",
       "\n",
       "                       L  \n",
       "0   [[73.4036518366907]]  \n",
       "1   [[83.7966049636929]]  \n",
       "2  [[68.41730832422807]]  "
      ]
     },
     "execution_count": 6,
     "metadata": {},
     "output_type": "execute_result"
    }
   ],
   "source": [
    "df"
   ]
  },
  {
   "cell_type": "code",
   "execution_count": 7,
   "metadata": {},
   "outputs": [
    {
     "name": "stderr",
     "output_type": "stream",
     "text": [
      "/Users/sprou/anaconda3/envs/biophysics/lib/python3.10/site-packages/scipy/io/matlab/_mio.py:227: MatReadWarning: Duplicate variable name \"None\" in stream - replacing previous with new\n",
      "Consider mio5.varmats_from_mat to split file into single variable files\n",
      "  matfile_dict = MR.get_variables(variable_names)\n"
     ]
    }
   ],
   "source": [
    "# read the .mat file\n",
    "mat_data = sio.loadmat(\"raw_sim_data/T0_5.mat\")"
   ]
  },
  {
   "cell_type": "code",
   "execution_count": null,
   "metadata": {},
   "outputs": [],
   "source": []
  }
 ],
 "metadata": {
  "kernelspec": {
   "display_name": "biophysics",
   "language": "python",
   "name": "python3"
  },
  "language_info": {
   "codemirror_mode": {
    "name": "ipython",
    "version": 3
   },
   "file_extension": ".py",
   "mimetype": "text/x-python",
   "name": "python",
   "nbconvert_exporter": "python",
   "pygments_lexer": "ipython3",
   "version": "3.10.13"
  }
 },
 "nbformat": 4,
 "nbformat_minor": 2
}
